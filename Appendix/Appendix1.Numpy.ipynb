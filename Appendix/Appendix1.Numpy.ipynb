{
 "cells": [
  {
   "cell_type": "markdown",
   "metadata": {},
   "source": [
    "### Appendix1. Numpy\n",
    "<a href=\"https://wjddyd66.github.io/dataanalysis/Numpy/\">Numpy</a>에서 Tool사용방법을 알아봤으나, 기초적인 부분에 대해서만 알아보고 많이 부족하다는 것을 깨달았다.  \n",
    "따라서 이번 Post는 Hands-on ML에서 부록 중 하나인 Numpy사용법을 알아보는 Post이다.  \n",
    "Tensorflow나 Pytorch에서도 기본적으로 다루는 자료형 이고, 꼭 필요한 Tool이다.\n",
    "코드참조:<a href=\"https://github.com/ageron/handson-ml2\">Handson-ml2 Github</a>"
   ]
  },
  {
   "cell_type": "markdown",
   "metadata": {},
   "source": [
    "#### 필요한 Library import"
   ]
  },
  {
   "cell_type": "code",
   "execution_count": 1,
   "metadata": {},
   "outputs": [],
   "source": [
    "%matplotlib inline\n",
    "import matplotlib.pyplot as plt\n",
    "import numpy as np\n",
    "import os"
   ]
  },
  {
   "cell_type": "markdown",
   "metadata": {},
   "source": [
    "### Creating arrays\n",
    "\n",
    "**np.zeros**  \n",
    "모든 행렬의 값을 0으로서 채워넣는다. Input으로 Array의 Size를 지정하게 된다.  \n",
    "\n",
    "**Some Vocabulary**  \n",
    "몇몇 지정된 단어가 존재한다.\n",
    "- axis: 각각의 Dimension\n",
    "- rank: number of axes\n",
    "- shape: list of axis length \n",
    "- size: total number of elements\n",
    "\n",
    "ex) 3x4 matrix\n",
    "- rank:2\n",
    "- first axis: 3 length\n",
    "- second axis: 4 lenght\n",
    "- shape: (3,4)\n",
    "- size: 12(3*4)\n",
    "\n",
    "**Array type**  \n",
    "Numpy Array는 ndarray type이다.  \n",
    "\n",
    "**np.ones**  \n",
    "지정한 Shape대로 모든 elements를 1로서 채운다.  \n",
    "\n",
    "**np.full**  \n",
    "지정한 Shape대로 모든 elements를 지정한 숫자로 채운다.  \n",
    "\n",
    "**np.empty**  \n",
    "지정한 Shape대로 모든 elements를 채우지 않는다.(이것은 Memery에 있는 내용이므로 예측할 수 없다.)  \n",
    "\n",
    "**np.array**  \n",
    "특정한 수를 대입하는 것이 아닌 지정한 숫자를 입력하여 Numpy Array를 구성할 수 있다.  \n",
    "\n",
    "**np.arrange**  \n",
    "Start ~ End구간을 특정한 Intervel만큼 차이나게 값을 대입할 수 있다.  \n",
    "\n",
    "**np.linspace**  \n",
    "Start ~ End구간을 특정한 개수로 나눌 수 있다.(각각의 Elements들의 Intervel은 동일)  \n",
    "\n",
    "**np.rand, np.randn**  \n",
    "- np.rand: 균일 분포로서 Random하게 Sampling(0~1)\n",
    "- np.randn: Gaussian 분포로서 Random하게 Sampling\n",
    "\n",
    "**np.fromfunction**  \n",
    "사용자가 지정한 Function으로 Numpy Array의 값을 지정할 수 있다."
   ]
  },
  {
   "cell_type": "code",
   "execution_count": 2,
   "metadata": {},
   "outputs": [
    {
     "name": "stdout",
     "output_type": "stream",
     "text": [
      "np.zeros\n",
      "1 Dimension\n",
      "[0. 0. 0. 0. 0.]\n",
      "\n",
      "2 Dimension\n",
      "[[0. 0. 0. 0.]\n",
      " [0. 0. 0. 0.]\n",
      " [0. 0. 0. 0.]]\n",
      "\n",
      "N Dimension\n",
      "[[[0. 0. 0. 0.]\n",
      "  [0. 0. 0. 0.]\n",
      "  [0. 0. 0. 0.]]\n",
      "\n",
      " [[0. 0. 0. 0.]\n",
      "  [0. 0. 0. 0.]\n",
      "  [0. 0. 0. 0.]]]\n",
      "\n",
      "Some Vocabulary\n",
      "(3,4) Matrix shape:  (3, 4)\n",
      "(3,4) Matrix Ndim:  2\n",
      "(3,4) Matrix size:  12\n",
      "\n",
      "Array type\n",
      "<class 'numpy.ndarray'>\n",
      "\n",
      "np.ones\n",
      "[[1. 1. 1. 1.]\n",
      " [1. 1. 1. 1.]\n",
      " [1. 1. 1. 1.]]\n",
      "\n",
      "np.full\n",
      "[[3.14159265 3.14159265 3.14159265 3.14159265]\n",
      " [3.14159265 3.14159265 3.14159265 3.14159265]\n",
      " [3.14159265 3.14159265 3.14159265 3.14159265]]\n",
      "\n",
      "np.empty\n",
      "[[0. 0. 0.]\n",
      " [0. 0. 0.]]\n",
      "\n",
      "np.array\n",
      "[[ 1  2  3  4]\n",
      " [10 20 30 40]]\n",
      "\n",
      "np.arange\n",
      "Default\n",
      "[1 2 3 4]\n",
      "Specific Intervel\n",
      "[1.  1.5 2.  2.5 3.  3.5 4.  4.5]\n",
      "\n",
      "np.linspace\n",
      "[0.         0.33333333 0.66666667 1.         1.33333333 1.66666667]\n",
      "\n",
      "np.rand, np.randn\n"
     ]
    },
    {
     "data": {
      "image/png": "[encoded data removed]",
      "text/plain": [
       "<Figure size 432x288 with 1 Axes>"
      ]
     },
     "metadata": {
      "needs_background": "light"
     },
     "output_type": "display_data"
    },
    {
     "name": "stdout",
     "output_type": "stream",
     "text": [
      "np.fromfunction\n",
      "[[[ 0.  0.  0.  0.  0.  0.  0.  0.  0.  0.]\n",
      "  [ 0.  1.  2.  3.  4.  5.  6.  7.  8.  9.]]\n",
      "\n",
      " [[ 1.  1.  1.  1.  1.  1.  1.  1.  1.  1.]\n",
      "  [ 1.  2.  3.  4.  5.  6.  7.  8.  9. 10.]]\n",
      "\n",
      " [[ 2.  2.  2.  2.  2.  2.  2.  2.  2.  2.]\n",
      "  [ 2.  3.  4.  5.  6.  7.  8.  9. 10. 11.]]]\n"
     ]
    }
   ],
   "source": [
    "print('np.zeros')\n",
    "print('1 Dimension')\n",
    "print(np.zeros(5))\n",
    "print()\n",
    "print('2 Dimension')\n",
    "print(np.zeros((3,4)))\n",
    "print()\n",
    "print('N Dimension')\n",
    "print(np.zeros((2,3,4)))\n",
    "print()\n",
    "\n",
    "print('Some Vocabulary')\n",
    "a = np.zeros((3,4))\n",
    "print('(3,4) Matrix shape: ',a.shape)\n",
    "print('(3,4) Matrix Ndim: ',a.ndim)\n",
    "print('(3,4) Matrix size: ',a.size)\n",
    "print()\n",
    "\n",
    "print('Array type')\n",
    "print(type(a))\n",
    "print()\n",
    "\n",
    "print('np.ones')\n",
    "print(np.ones((3,4)))\n",
    "print()\n",
    "\n",
    "print('np.full')\n",
    "print(np.full((3,4),np.pi))\n",
    "print()\n",
    "\n",
    "print('np.empty')\n",
    "print(np.empty([2,3],dtype=float))\n",
    "print()\n",
    "\n",
    "print('np.array')\n",
    "print(np.array([[1,2,3,4],[10,20,30,40]]))\n",
    "print()\n",
    "\n",
    "print('np.arange')\n",
    "print('Default')\n",
    "print(np.arange(1,5))\n",
    "print('Specific Intervel')\n",
    "print(np.arange(1,5,0.5))\n",
    "print()\n",
    "\n",
    "print('np.linspace')\n",
    "print(np.linspace(0,5/3,6))\n",
    "print()\n",
    "\n",
    "print('np.rand, np.randn')\n",
    "plt.hist(np.random.rand(100000), density=True, bins=100, histtype=\"step\", color=\"blue\", label=\"rand\")\n",
    "plt.hist(np.random.randn(100000), density=True, bins=100, histtype=\"step\", color=\"red\", label=\"randn\")\n",
    "plt.axis([-2.5, 2.5, 0, 1.1])\n",
    "plt.legend(loc = \"upper left\")\n",
    "plt.title(\"Random distributions\")\n",
    "plt.xlabel(\"Value\")\n",
    "plt.ylabel(\"Density\")\n",
    "plt.show()\n",
    "\n",
    "print('np.fromfunction')\n",
    "def my_function(z,y,x):\n",
    "    return x*y+z\n",
    "\n",
    "print(np.fromfunction(my_function,(3,2,10)))"
   ]
  },
  {
   "cell_type": "markdown",
   "metadata": {},
   "source": [
    "### Array data\n",
    "\n",
    "**dtype**  \n",
    "**Numpy는 Tensor와 마찬가지로 하나의 ndarray안의 Elements끼리는 dtype이 동일하다.**  \n",
    "Numpy가 지원하는 Dtype은 <a href=\"https://docs.scipy.org/doc/numpy-1.10.1/user/basics.types.html\">Documnetation</a>을 참조하자.  \n",
    "\n",
    "**itemsize**  \n",
    "Ndarray의 Elements의 Size(bytes)를 나타낸다."
   ]
  },
  {
   "cell_type": "code",
   "execution_count": 3,
   "metadata": {},
   "outputs": [
    {
     "name": "stdout",
     "output_type": "stream",
     "text": [
      "Numpy                          dtype      itemsize  \n",
      "[1 2 3 4]                      int32      4         \n",
      "[1. 2. 3. 4.]                  float64    8         \n",
      "[1.+0.j 2.+0.j 3.+0.j 4.+0.j]  complex64  8         \n"
     ]
    }
   ],
   "source": [
    "print('{0:<30} {1:<10} {2:<10}'.format('Numpy','dtype','itemsize'))\n",
    "a = np.arange(1,5)\n",
    "b = np.arange(1.0,5.0)\n",
    "c = np.arange(1,5,dtype=np.complex64)\n",
    "\n",
    "print('{0:<30} {1:<10} {2:<10}'.format(str(a),str(a.dtype),str(a.itemsize)))\n",
    "print('{0:<30} {1:<10} {2:<10}'.format(str(b),str(b.dtype),str(b.itemsize)))\n",
    "print('{0:<30} {1:<10} {2:<10}'.format(str(c),str(c.dtype),str(c.itemsize)))"
   ]
  },
  {
   "cell_type": "markdown",
   "metadata": {},
   "source": [
    "### Reshaping an array\n",
    "\n",
    "**In place**  \n",
    "Numpy Array는 **shape를 변형하는 것은 가능하지만, size는 반드시 동일하여야 한다.**  \n",
    "\n",
    "**reshape**  \n",
    "reshape를 사용하여 shape를 변형하게 되면 **같은 데이터를 가진 data를 Return한다. 중요한 것은 Return한 object의 값을 변형하면 이전의 data또한 값이 변형된다는 것 이다.(Shape는 달라도 변형된다.)**  \n",
    "\n",
    "**ravel**  \n",
    "Numpy Array를 Flatten한 1 Dimension으로 변형시킨다."
   ]
  },
  {
   "cell_type": "code",
   "execution_count": 4,
   "metadata": {},
   "outputs": [
    {
     "name": "stdout",
     "output_type": "stream",
     "text": [
      "In place\n",
      "Original\n",
      "[ 0  1  2  3  4  5  6  7  8  9 10 11 12 13 14 15 16 17 18 19 20 21 22 23]\n",
      "Rank: 1\n",
      "\n",
      "Change (1,24) -> (6,4)\n",
      "[[ 0  1  2  3]\n",
      " [ 4  5  6  7]\n",
      " [ 8  9 10 11]\n",
      " [12 13 14 15]\n",
      " [16 17 18 19]\n",
      " [20 21 22 23]]\n",
      "Rank: 2\n",
      "\n",
      "Change (6,4) -> (2,3,4)\n",
      "[[[ 0  1  2  3]\n",
      "  [ 4  5  6  7]\n",
      "  [ 8  9 10 11]]\n",
      "\n",
      " [[12 13 14 15]\n",
      "  [16 17 18 19]\n",
      "  [20 21 22 23]]]\n",
      "Rank: 3\n",
      "\n",
      "reshape\n",
      "[[ 0  1  2  3  4  5]\n",
      " [ 6  7  8  9 10 11]\n",
      " [12 13 14 15 16 17]\n",
      " [18 19 20 21 22 23]]\n",
      "Rank: 2\n",
      "\n",
      "g2[1,2] = 999 -> g[0,2,0] = 999\n",
      "g\n",
      "[[[  0   1   2   3]\n",
      "  [  4   5   6   7]\n",
      "  [999   9  10  11]]\n",
      "\n",
      " [[ 12  13  14  15]\n",
      "  [ 16  17  18  19]\n",
      "  [ 20  21  22  23]]]\n",
      "g2\n",
      "[[  0   1   2   3   4   5]\n",
      " [  6   7 999   9  10  11]\n",
      " [ 12  13  14  15  16  17]\n",
      " [ 18  19  20  21  22  23]]\n",
      "\n",
      "ravel\n",
      "[  0   1   2   3   4   5   6   7 999   9  10  11  12  13  14  15  16  17\n",
      "  18  19  20  21  22  23]\n"
     ]
    }
   ],
   "source": [
    "print('In place')\n",
    "print('Original')\n",
    "g = np.arange(24)\n",
    "print(g)\n",
    "print(\"Rank:\", g.ndim)\n",
    "print()\n",
    "print('Change (1,24) -> (6,4)')\n",
    "g.shape = (6, 4)\n",
    "print(g)\n",
    "print(\"Rank:\", g.ndim)\n",
    "print()\n",
    "print('Change (6,4) -> (2,3,4)')\n",
    "g.shape = (2, 3, 4)\n",
    "print(g)\n",
    "print(\"Rank:\", g.ndim)\n",
    "print()\n",
    "\n",
    "\n",
    "print('reshape')\n",
    "g2 = g.reshape(4,6)\n",
    "print(g2)\n",
    "print(\"Rank:\", g2.ndim)\n",
    "print()\n",
    "print('g2[1,2] = 999 -> g[0,2,0] = 999')\n",
    "g2[1, 2] = 999\n",
    "print('g')\n",
    "print(g)\n",
    "print('g2')\n",
    "print(g2)\n",
    "print()\n",
    "\n",
    "print('ravel')\n",
    "print(g.ravel())"
   ]
  },
  {
   "cell_type": "markdown",
   "metadata": {},
   "source": [
    "### Arothmetic operations\n",
    "기본적인 산수 연산(`+`, `-`, `*`, `/`, `//`, `**`, etc.)이 사용 가능하다.  \n",
    "**조심하여야 하는 것은 Matrix operation이 아니라 Numpy Elements각각의 operations라는 것을 명심하여야 한다.**"
   ]
  },
  {
   "cell_type": "code",
   "execution_count": 5,
   "metadata": {},
   "outputs": [
    {
     "name": "stdout",
     "output_type": "stream",
     "text": [
      "a:  [14 23 32 41]\n",
      "b:  [5 4 3 2]\n",
      "a + b  = [19 27 35 43]\n",
      "a - b  = [ 9 19 29 39]\n",
      "a * b  = [70 92 96 82]\n",
      "a / b  = [ 2.8         5.75       10.66666667 20.5       ]\n",
      "a // b  = [ 2  5 10 20]\n",
      "a % b  = [4 3 2 1]\n",
      "a ** b = [537824 279841  32768   1681]\n"
     ]
    }
   ],
   "source": [
    "a = np.array([14, 23, 32, 41])\n",
    "b = np.array([5,  4,  3,  2])\n",
    "print('a: ',a)\n",
    "print('b: ',b)\n",
    "print(\"a + b  =\", a + b)\n",
    "print(\"a - b  =\", a - b)\n",
    "print(\"a * b  =\", a * b)\n",
    "print(\"a / b  =\", a / b)\n",
    "print(\"a // b  =\", a // b)\n",
    "print(\"a % b  =\", a % b)\n",
    "print(\"a ** b =\", a ** b)"
   ]
  },
  {
   "cell_type": "markdown",
   "metadata": {},
   "source": [
    "### Broadcasting\n",
    "Numpy는 기본적으로 same shape가 아니면 계산되지 않으나, Broadcasting되는 몇몇 룰이 존재한다.  \n",
    "\n",
    "**First rule**  \n",
    "만약 행렬의 rank가 맞지 않는다면 계속하여 앞에 1씩 Dimension을 더해가면서 Broadcasting을 실시하게 된다."
   ]
  },
  {
   "cell_type": "code",
   "execution_count": 6,
   "metadata": {},
   "outputs": [
    {
     "name": "stdout",
     "output_type": "stream",
     "text": [
      "[[[0 1 2 3 4]]]\n",
      "[[[10 21 32 43 54]]]\n"
     ]
    }
   ],
   "source": [
    "h = np.arange(5).reshape(1, 1, 5)\n",
    "print(h)\n",
    "print(h + [10, 20, 30, 40, 50])  # same as: h + [[[10, 20, 30, 40, 50]]]"
   ]
  },
  {
   "cell_type": "markdown",
   "metadata": {},
   "source": [
    "**Second rule**  \n",
    "만약 Dimension 중 1이있는 Array는 자동적으로 큰 Dimension(같은 값)으로서 Broadcasting된다."
   ]
  },
  {
   "cell_type": "code",
   "execution_count": 7,
   "metadata": {},
   "outputs": [
    {
     "name": "stdout",
     "output_type": "stream",
     "text": [
      "[[0 1 2]\n",
      " [3 4 5]]\n",
      "[[100 101 102]\n",
      " [203 204 205]]\n"
     ]
    }
   ],
   "source": [
    "k = np.arange(6).reshape(2, 3)\n",
    "print(k)\n",
    "print(k + [[100], [200]])  # same as: k + [[100, 100, 100], [200, 200, 200]]"
   ]
  },
  {
   "cell_type": "markdown",
   "metadata": {},
   "source": [
    "first rule + second rule"
   ]
  },
  {
   "cell_type": "code",
   "execution_count": 8,
   "metadata": {},
   "outputs": [
    {
     "name": "stdout",
     "output_type": "stream",
     "text": [
      "[[100 201 302]\n",
      " [103 204 305]]\n",
      "[[1000 1001 1002]\n",
      " [1003 1004 1005]]\n"
     ]
    }
   ],
   "source": [
    "print(k + [100, 200, 300])  # after rule 1: [[100, 200, 300]], and after rule 2: [[100, 200, 300], [100, 200, 300]]\n",
    "\n",
    "print(k + 1000)  # same as: k + [[1000, 1000, 1000], [1000, 1000, 1000]]"
   ]
  },
  {
   "cell_type": "markdown",
   "metadata": {},
   "source": [
    "**Upcasting**  \n",
    "위에서 Numpy Array는 동일한 dtype을 가진다고 하였다.  \n",
    "이러한 dtype은 upcasting가능하다."
   ]
  },
  {
   "cell_type": "code",
   "execution_count": 9,
   "metadata": {},
   "outputs": [
    {
     "name": "stdout",
     "output_type": "stream",
     "text": [
      "uint8 [0 1 2 3 4]\n",
      "int16 [ 5  7  9 11 13]\n",
      "float64 [1.5 2.5 3.5 4.5 5.5]\n"
     ]
    }
   ],
   "source": [
    "k1 = np.arange(0, 5, dtype=np.uint8)\n",
    "print(k1.dtype, k1)\n",
    "\n",
    "k2 = k1 + np.array([5, 6, 7, 8, 9], dtype=np.int8)\n",
    "print(k2.dtype, k2)\n",
    "\n",
    "k3 = k1 + 1.5\n",
    "print(k3.dtype, k3)"
   ]
  },
  {
   "cell_type": "markdown",
   "metadata": {},
   "source": [
    "### Conditional operators\n",
    "Conditional operators는 각각의 elements or broadcasting혹인 indexing에서도 사용 가능하다."
   ]
  },
  {
   "cell_type": "code",
   "execution_count": 10,
   "metadata": {},
   "outputs": [
    {
     "name": "stdout",
     "output_type": "stream",
     "text": [
      "[False  True  True False]\n",
      "[ True  True False False]\n",
      "[20 -5]\n"
     ]
    }
   ],
   "source": [
    "m = np.array([20, -5, 30, 40])\n",
    "print(m < [15, 16, 35, 36])\n",
    "\n",
    "# bradcasting\n",
    "print(m<25)\n",
    "\n",
    "# indexing\n",
    "print(m[m<25])"
   ]
  },
  {
   "cell_type": "markdown",
   "metadata": {},
   "source": [
    "### Mathematical and statstical functions\n",
    "많은 function들이 이미 ndarray에서 바로 사용 가능하다."
   ]
  },
  {
   "cell_type": "code",
   "execution_count": 11,
   "metadata": {},
   "outputs": [
    {
     "name": "stdout",
     "output_type": "stream",
     "text": [
      "min = -2.5\n",
      "max = 12.0\n",
      "sum = 40.6\n",
      "prod = -71610.0\n",
      "std = 5.084835843520964\n",
      "var = 25.855555555555554\n"
     ]
    }
   ],
   "source": [
    "a = np.array([[-2.5, 3.1, 7], [10, 11, 12]])\n",
    "\n",
    "for func in (a.min, a.max, a.sum, a.prod, a.std, a.var):\n",
    "    print(func.__name__, \"=\", func())"
   ]
  },
  {
   "cell_type": "markdown",
   "metadata": {},
   "source": [
    "특히 많이 사용되는 것은 .sum()으로서 Numpy Array안에서 Elements끼리의 합을 구하는 것 이다.  \n",
    "이러한 것 중 중요한 것은 **axis를 활용하여 합치는 기준 축을 잘 지정하는 것 이다.**"
   ]
  },
  {
   "cell_type": "code",
   "execution_count": 12,
   "metadata": {},
   "outputs": [
    {
     "name": "stdout",
     "output_type": "stream",
     "text": [
      "[[[ 0  1  2  3]\n",
      "  [ 4  5  6  7]\n",
      "  [ 8  9 10 11]]\n",
      "\n",
      " [[12 13 14 15]\n",
      "  [16 17 18 19]\n",
      "  [20 21 22 23]]]\n",
      "c.sum(axis=0)\n",
      "[[12 14 16 18]\n",
      " [20 22 24 26]\n",
      " [28 30 32 34]]\n",
      "\n",
      "c.sum(axis=1)\n",
      "[[12 15 18 21]\n",
      " [48 51 54 57]]\n",
      "\n",
      "c.sum(axis=2)\n",
      "[[ 6 22 38]\n",
      " [54 70 86]]\n",
      "\n"
     ]
    }
   ],
   "source": [
    "c=np.arange(24).reshape(2,3,4)\n",
    "print(c)\n",
    "print('c.sum(axis=0)')\n",
    "print(c.sum(axis=0))  # sum across matrices\n",
    "print()\n",
    "\n",
    "print('c.sum(axis=1)')\n",
    "print(c.sum(axis=1))  # sum across row\n",
    "print()\n",
    "\n",
    "print('c.sum(axis=2)')\n",
    "print(c.sum(axis=2))  # sum across columns\n",
    "print()"
   ]
  },
  {
   "cell_type": "markdown",
   "metadata": {},
   "source": [
    "**Universal functions**  \n",
    "보편적인 기능을 가진 **ufunc**라고 불리는 기능이 존재한다.  \n",
    "각각의 Elements에 적용할 수 있는 Function들이다."
   ]
  },
  {
   "cell_type": "code",
   "execution_count": 13,
   "metadata": {},
   "outputs": [
    {
     "name": "stdout",
     "output_type": "stream",
     "text": [
      "Original ndarray\n",
      "[[-2.5  3.1  7. ]\n",
      " [10.  11.  12. ]]\n",
      "\n",
      " square\n",
      "[[  6.25   9.61  49.  ]\n",
      " [100.   121.   144.  ]]\n",
      "\n",
      " absolute\n",
      "[[ 2.5  3.1  7. ]\n",
      " [10.  11.  12. ]]\n",
      "\n",
      " sqrt\n",
      "[[       nan 1.76068169 2.64575131]\n",
      " [3.16227766 3.31662479 3.46410162]]\n",
      "\n",
      " exp\n",
      "[[8.20849986e-02 2.21979513e+01 1.09663316e+03]\n",
      " [2.20264658e+04 5.98741417e+04 1.62754791e+05]]\n",
      "\n",
      " log\n",
      "[[       nan 1.13140211 1.94591015]\n",
      " [2.30258509 2.39789527 2.48490665]]\n",
      "\n",
      " sign\n",
      "[[-1.  1.  1.]\n",
      " [ 1.  1.  1.]]\n",
      "\n",
      " ceil\n",
      "[[-2.  4.  7.]\n",
      " [10. 11. 12.]]\n",
      "\n",
      " modf\n",
      "(array([[-0.5,  0.1,  0. ],\n",
      "       [ 0. ,  0. ,  0. ]]), array([[-2.,  3.,  7.],\n",
      "       [10., 11., 12.]]))\n",
      "\n",
      " isnan\n",
      "[[False False False]\n",
      " [False False False]]\n",
      "\n",
      " cos\n",
      "[[-0.80114362 -0.99913515  0.75390225]\n",
      " [-0.83907153  0.0044257   0.84385396]]\n"
     ]
    },
    {
     "name": "stderr",
     "output_type": "stream",
     "text": [
      "c:\\users\\admin\\workspace\\pythonsetting\\handson\\lib\\site-packages\\ipykernel_launcher.py:6: RuntimeWarning: invalid value encountered in sqrt\n",
      "  \n",
      "c:\\users\\admin\\workspace\\pythonsetting\\handson\\lib\\site-packages\\ipykernel_launcher.py:6: RuntimeWarning: invalid value encountered in log\n",
      "  \n"
     ]
    }
   ],
   "source": [
    "a = np.array([[-2.5, 3.1, 7], [10, 11, 12]])\n",
    "print(\"Original ndarray\")\n",
    "print(a)\n",
    "for func in (np.square, np.abs, np.sqrt, np.exp, np.log, np.sign, np.ceil, np.modf, np.isnan, np.cos):\n",
    "    print(\"\\n\", func.__name__)\n",
    "    print(func(a))"
   ]
  },
  {
   "cell_type": "markdown",
   "metadata": {},
   "source": [
    "**Binary ufuncs**  \n",
    "두개의 Numpy Array의 값을 비교하거나 다른 기능의 Function을 적용할 수 있다."
   ]
  },
  {
   "cell_type": "code",
   "execution_count": 14,
   "metadata": {},
   "outputs": [
    {
     "name": "stdout",
     "output_type": "stream",
     "text": [
      "[ 3  6  2 11]\n",
      "[False False  True False]\n"
     ]
    }
   ],
   "source": [
    "a = np.array([1, -2, 3, 4])\n",
    "b = np.array([2, 8, -1, 7])\n",
    "print(np.add(a, b))  # equivalent to a + b\n",
    "print(np.greater(a, b))  # equivalent to a > b"
   ]
  },
  {
   "cell_type": "markdown",
   "metadata": {},
   "source": [
    "### Array indexing\n",
    "\n",
    "**One-dimensional arrays**  \n",
    "One-dimensional Numpy는 Python의 Array와 동일하게 Indexing이 가능하다."
   ]
  },
  {
   "cell_type": "code",
   "execution_count": 15,
   "metadata": {},
   "outputs": [
    {
     "name": "stdout",
     "output_type": "stream",
     "text": [
      "a:  [ 1  5  3 19 13  7  3]\n",
      "19\n",
      "[ 3 19 13]\n",
      "[ 3 19 13  7]\n",
      "[ 3  7 13 19  3  5  1]\n",
      "[ 3 13  3]\n"
     ]
    }
   ],
   "source": [
    "a = np.array([1, 5, 3, 19, 13, 7, 3])\n",
    "print('a: ',a)\n",
    "# Point\n",
    "print(a[3])\n",
    "# Range\n",
    "print(a[2:5])\n",
    "print(a[2:-1])\n",
    "# Reverse\n",
    "print(a[::-1])\n",
    "# [Start_index:End_index:Intervel]\n",
    "print(a[2::2])"
   ]
  },
  {
   "cell_type": "markdown",
   "metadata": {},
   "source": [
    "**Differences with regular python arrays**  \n",
    "Numpy Array는 Broadcasting을 진행하기 때문에 Range에 값을 대입하여도 알아서 값이 잘 바뀐다."
   ]
  },
  {
   "cell_type": "code",
   "execution_count": 16,
   "metadata": {},
   "outputs": [
    {
     "name": "stdout",
     "output_type": "stream",
     "text": [
      "[ 1  5 -1 -1 -1  7  3]\n"
     ]
    }
   ],
   "source": [
    "a[2:5] = -1\n",
    "print(a)"
   ]
  },
  {
   "cell_type": "markdown",
   "metadata": {},
   "source": [
    "배열이 Size가 맞지 않는 값은 대입할 수 없으며, Elements를 del을 사용하여 없앨 수 없다."
   ]
  },
  {
   "cell_type": "code",
   "execution_count": 17,
   "metadata": {},
   "outputs": [
    {
     "name": "stdout",
     "output_type": "stream",
     "text": [
      "cannot copy sequence with size 6 to array axis with dimension 3\n",
      "cannot delete array elements\n"
     ]
    }
   ],
   "source": [
    "try:\n",
    "    a[2:5] = [1,2,3,4,5,6]  # too long\n",
    "except ValueError as e:\n",
    "    print(e)\n",
    "    \n",
    "try:\n",
    "    del a[2:5]\n",
    "except ValueError as e:\n",
    "    print(e)"
   ]
  },
  {
   "cell_type": "markdown",
   "metadata": {},
   "source": [
    "**Numpy Array의 Slice하여 사용하는 것은 실제 Data를 복사하여 가져오는 것이 아니라 참조하여 볼 곳을 정하는 것이다.(views on the same data buffer) 이러한 특성 때문에 Slice한 값을 변경하면 Original도 변경이 되고, Original의 값을 바꾸면 Slice한 값에 영향을 미친다.**  \n",
    "이러한 참조방식이 싫으면 .copy()를 활용하여 Data의 값을 다른 Buffer에 옮겨와서 사용하는 수 밖에 없다."
   ]
  },
  {
   "cell_type": "code",
   "execution_count": 18,
   "metadata": {},
   "outputs": [
    {
     "name": "stdout",
     "output_type": "stream",
     "text": [
      "[   1    5   -1 1000   -1    7    3]\n",
      "[  -1 2000   -1    7]\n",
      "[   1    5   -1 2000   -1    7    3]\n",
      "[  -1 3000   -1    7]\n"
     ]
    }
   ],
   "source": [
    "a_slice = a[2:6]\n",
    "a_slice[1] = 1000\n",
    "print(a)  # the original array was modified!\n",
    "\n",
    "a[3] = 2000\n",
    "print(a_slice)  # similarly, modifying the original array modifies the slice!\n",
    "\n",
    "another_slice = a[2:6].copy()\n",
    "another_slice[1] = 3000\n",
    "print(a)  # the original array is untouched\n",
    "\n",
    "a[3] = 4000\n",
    "print(another_slice)  # similary, modifying the original array does not affect the slice copy"
   ]
  },
  {
   "cell_type": "markdown",
   "metadata": {},
   "source": [
    "**Multi-diensional arrays**  \n",
    "다양한 차원의 Array또한 Indexing하는 것은 One-diensional arrays와 비슷하다."
   ]
  },
  {
   "cell_type": "code",
   "execution_count": 19,
   "metadata": {},
   "outputs": [
    {
     "name": "stdout",
     "output_type": "stream",
     "text": [
      "[[ 0  1  2  3  4  5  6  7  8  9 10 11]\n",
      " [12 13 14 15 16 17 18 19 20 21 22 23]\n",
      " [24 25 26 27 28 29 30 31 32 33 34 35]\n",
      " [36 37 38 39 40 41 42 43 44 45 46 47]]\n",
      "\n",
      "14\n",
      "[12 13 14 15 16 17 18 19 20 21 22 23]\n",
      "[ 1 13 25 37]\n",
      "\n",
      "Caution\n",
      "[12 13 14 15 16 17 18 19 20 21 22 23]\n",
      "[[12 13 14 15 16 17 18 19 20 21 22 23]]\n"
     ]
    }
   ],
   "source": [
    "b = np.arange(48).reshape(4, 12)\n",
    "print(b)\n",
    "print()\n",
    "\n",
    "print(b[1, 2])  # row 1, col 2\n",
    "print(b[1, :])  # row 1, all columns\n",
    "print(b[:, 1])  # all rows, column 1\n",
    "print()\n",
    "\n",
    "print('Caution')\n",
    "print(b[1, :]) # 1D Array of shape(12,)\n",
    "print(b[1:2, :]) # 2D Array of shape(1,12)"
   ]
  },
  {
   "cell_type": "markdown",
   "metadata": {},
   "source": [
    "**Fancy indexing**  \n",
    "Range로서 값을 지정할 수도 있고, (a,b,...)처럼 Discrete한 값으로서 Indexing의 Argument로서 대입 가능하다."
   ]
  },
  {
   "cell_type": "code",
   "execution_count": 20,
   "metadata": {},
   "outputs": [
    {
     "name": "stdout",
     "output_type": "stream",
     "text": [
      "[[ 2  3  4]\n",
      " [26 27 28]]\n",
      "\n",
      "[[11  2 11]\n",
      " [23 14 23]\n",
      " [35 26 35]\n",
      " [47 38 47]]\n"
     ]
    }
   ],
   "source": [
    "print(b[(0,2), 2:5]) # rows 0 and 2, columns 2 to 4 (5-1)\n",
    "print()\n",
    "print(b[:, (-1, 2, -1)]) # all rows, columns -1 (last), 2 and -1 (again, and in this order)"
   ]
  },
  {
   "cell_type": "markdown",
   "metadata": {},
   "source": [
    "**Ellipsis(...)**  \n",
    "ellipsis(...)는 특정하지 않고 모든 axes를 선택하는 경우 사용 된다."
   ]
  },
  {
   "cell_type": "code",
   "execution_count": 21,
   "metadata": {},
   "outputs": [
    {
     "name": "stdout",
     "output_type": "stream",
     "text": [
      "c\n",
      "[[[ 0  1  2  3  4  5]\n",
      "  [ 6  7  8  9 10 11]]\n",
      "\n",
      " [[12 13 14 15 16 17]\n",
      "  [18 19 20 21 22 23]]\n",
      "\n",
      " [[24 25 26 27 28 29]\n",
      "  [30 31 32 33 34 35]]\n",
      "\n",
      " [[36 37 38 39 40 41]\n",
      "  [42 43 44 45 46 47]]]\n",
      "[[24 25 26 27 28 29]\n",
      " [30 31 32 33 34 35]]\n",
      "[30 31 32 33 34 35]\n",
      "[27 33]\n"
     ]
    }
   ],
   "source": [
    "c = b.reshape(4,2,6)\n",
    "print('c')\n",
    "print(c)\n",
    "\n",
    "print(c[2, ...])  #  matrix 2, all rows, all columns.  This is equivalent to c[2, :, :]\n",
    "print(c[2, 1, ...])  # matrix 2, row 1, all columns.  This is equivalent to c[2, 1, :]\n",
    "print(c[2, ..., 3])  # matrix 2, all rows, column 3.  This is equivalent to c[2, :, 3]"
   ]
  },
  {
   "cell_type": "markdown",
   "metadata": {},
   "source": [
    "**Boolean indexing**  \n",
    "Indexing에서 많이 쓰이는 방법 중 하나이다.  \n",
    "원하는 Column or Row의 값을 True or False로서 지정하여 Indexing을 실시한다."
   ]
  },
  {
   "cell_type": "code",
   "execution_count": 22,
   "metadata": {},
   "outputs": [
    {
     "name": "stdout",
     "output_type": "stream",
     "text": [
      "[[ 0  1  2  3  4  5  6  7  8  9 10 11]\n",
      " [12 13 14 15 16 17 18 19 20 21 22 23]\n",
      " [24 25 26 27 28 29 30 31 32 33 34 35]\n",
      " [36 37 38 39 40 41 42 43 44 45 46 47]]\n",
      "\n",
      "[[ 0  1  2  3  4  5  6  7  8  9 10 11]\n",
      " [24 25 26 27 28 29 30 31 32 33 34 35]]\n",
      "\n",
      "[[ 1  4  7 10]\n",
      " [13 16 19 22]\n",
      " [25 28 31 34]\n",
      " [37 40 43 46]]\n"
     ]
    }
   ],
   "source": [
    "b = np.arange(48).reshape(4, 12)\n",
    "print(b)\n",
    "print()\n",
    "\n",
    "rows_on = np.array([True, False, True, False])\n",
    "print(b[rows_on, :])  # Rows 0 and 2, all columns. Equivalent to b[(0, 2), :]\n",
    "print()\n",
    "\n",
    "cols_on = np.array([False, True, False] * 4)\n",
    "print(b[:, cols_on])  # All rows, columns 1, 4, 7 and 10"
   ]
  },
  {
   "cell_type": "markdown",
   "metadata": {},
   "source": [
    "### Iterating\n",
    "Iterating또한 Python의 방식과 매우 유사하다.  \n",
    "기준은 Numpy Array의 First axis이다."
   ]
  },
  {
   "cell_type": "code",
   "execution_count": 23,
   "metadata": {},
   "outputs": [
    {
     "name": "stdout",
     "output_type": "stream",
     "text": [
      "[[[ 0  1  2  3]\n",
      "  [ 4  5  6  7]\n",
      "  [ 8  9 10 11]]\n",
      "\n",
      " [[12 13 14 15]\n",
      "  [16 17 18 19]\n",
      "  [20 21 22 23]]]\n",
      "\n",
      "Item:\n",
      "[[ 0  1  2  3]\n",
      " [ 4  5  6  7]\n",
      " [ 8  9 10 11]]\n",
      "Item:\n",
      "[[12 13 14 15]\n",
      " [16 17 18 19]\n",
      " [20 21 22 23]]\n",
      "Item: 0\n",
      "Item: 1\n",
      "Item: 2\n",
      "Item: 3\n",
      "Item: 4\n",
      "Item: 5\n",
      "Item: 6\n",
      "Item: 7\n",
      "Item: 8\n",
      "Item: 9\n",
      "Item: 10\n",
      "Item: 11\n",
      "Item: 12\n",
      "Item: 13\n",
      "Item: 14\n",
      "Item: 15\n",
      "Item: 16\n",
      "Item: 17\n",
      "Item: 18\n",
      "Item: 19\n",
      "Item: 20\n",
      "Item: 21\n",
      "Item: 22\n",
      "Item: 23\n"
     ]
    }
   ],
   "source": [
    "c = np.arange(24).reshape(2, 3, 4)  # A 3D array (composed of two 3x4 matrices)\n",
    "print(c)\n",
    "print()\n",
    "\n",
    "# Standard is First axis of Numpy Array\n",
    "for m in c:\n",
    "    print(\"Item:\")\n",
    "    print(m)\n",
    "    \n",
    "# if you want see all elements -> You can use .flat\n",
    "for i in c.flat:\n",
    "    print(\"Item:\", i)"
   ]
  },
  {
   "cell_type": "markdown",
   "metadata": {},
   "source": [
    "### Stacking arrays\n",
    "Numpy Array를 합치는 방법이다.  \n",
    "\n",
    "**vstack**  \n",
    "Numpy Array를 세로로 합친다.  \n",
    "\n",
    "**hstack**  \n",
    "Numpy Array를 가로로 합친다.  \n",
    "\n",
    "**concatenate**  \n",
    "axis를 기준으로 vsatck, hstack이 가능하다.  \n",
    "\n",
    "**stack**  \n",
    "새로운 Dimension을 추가하여 Numpy Array를 합친다."
   ]
  },
  {
   "cell_type": "code",
   "execution_count": 24,
   "metadata": {},
   "outputs": [
    {
     "name": "stdout",
     "output_type": "stream",
     "text": [
      "q1\n",
      "[[1. 1. 1. 1.]\n",
      " [1. 1. 1. 1.]\n",
      " [1. 1. 1. 1.]]\n",
      "q2\n",
      "[[2. 2. 2. 2.]\n",
      " [2. 2. 2. 2.]\n",
      " [2. 2. 2. 2.]\n",
      " [2. 2. 2. 2.]]\n",
      "q3\n",
      "[[3. 3. 3. 3.]\n",
      " [3. 3. 3. 3.]\n",
      " [3. 3. 3. 3.]]\n",
      "\n",
      "vstack(q1,q2,q3)\n",
      "[[1. 1. 1. 1.]\n",
      " [1. 1. 1. 1.]\n",
      " [1. 1. 1. 1.]\n",
      " [2. 2. 2. 2.]\n",
      " [2. 2. 2. 2.]\n",
      " [2. 2. 2. 2.]\n",
      " [2. 2. 2. 2.]\n",
      " [3. 3. 3. 3.]\n",
      " [3. 3. 3. 3.]\n",
      " [3. 3. 3. 3.]]\n",
      "(10, 4)\n",
      "\n",
      "hstack(q1,q3)\n",
      "[[1. 1. 1. 1. 3. 3. 3. 3.]\n",
      " [1. 1. 1. 1. 3. 3. 3. 3.]\n",
      " [1. 1. 1. 1. 3. 3. 3. 3.]]\n",
      "(3, 8)\n",
      "\n",
      "If Dimension is different each other\n",
      "all the input array dimensions for the concatenation axis must match exactly, but along dimension 0, the array at index 0 has size 3 and the array at index 1 has size 4\n",
      "\n",
      "concatenate\n",
      "[[1. 1. 1. 1.]\n",
      " [1. 1. 1. 1.]\n",
      " [1. 1. 1. 1.]\n",
      " [2. 2. 2. 2.]\n",
      " [2. 2. 2. 2.]\n",
      " [2. 2. 2. 2.]\n",
      " [2. 2. 2. 2.]\n",
      " [3. 3. 3. 3.]\n",
      " [3. 3. 3. 3.]\n",
      " [3. 3. 3. 3.]]\n",
      "(10, 4)\n",
      "\n",
      "stack\n",
      "[[[1. 1. 1. 1.]\n",
      "  [1. 1. 1. 1.]\n",
      "  [1. 1. 1. 1.]]\n",
      "\n",
      " [[3. 3. 3. 3.]\n",
      "  [3. 3. 3. 3.]\n",
      "  [3. 3. 3. 3.]]]\n",
      "(2, 3, 4)\n"
     ]
    }
   ],
   "source": [
    "q1 = np.full((3,4), 1.0)\n",
    "q2 = np.full((4,4), 2.0)\n",
    "q3 = np.full((3,4), 3.0)\n",
    "\n",
    "print('q1')\n",
    "print(q1)\n",
    "print('q2')\n",
    "print(q2)\n",
    "print('q3')\n",
    "print(q3)\n",
    "print()\n",
    "\n",
    "print('vstack(q1,q2,q3)')\n",
    "q4 = np.vstack((q1,q2,q3))\n",
    "print(q4)\n",
    "print(q4.shape)\n",
    "print()\n",
    "\n",
    "print('hstack(q1,q3)')\n",
    "q5 = np.hstack((q1,q3))\n",
    "print(q5)\n",
    "print(q5.shape)\n",
    "print()\n",
    "\n",
    "print('If Dimension is different each other')\n",
    "try:\n",
    "    q5 = np.hstack((q1,q2,q3))\n",
    "except ValueError as e:\n",
    "    print(e)\n",
    "    print()\n",
    "    \n",
    "print('concatenate')\n",
    "q7 = np.concatenate((q1,q2,q3),axis=0)\n",
    "print(q7)\n",
    "print(q7.shape)\n",
    "print()\n",
    "\n",
    "print('stack')\n",
    "q8 = np.stack((q1,q3))\n",
    "print(q8)\n",
    "print(q8.shape)"
   ]
  },
  {
   "cell_type": "markdown",
   "metadata": {},
   "source": [
    "### Splitting arrays\n",
    "위의 Stacking과 다르게 array를 splitting하는 방법 또한 존재한다. Stacking과 연관지어 vstack -> vsplit, hstack -> hsplit으로 변형시키면 된다."
   ]
  },
  {
   "cell_type": "code",
   "execution_count": 25,
   "metadata": {},
   "outputs": [
    {
     "name": "stdout",
     "output_type": "stream",
     "text": [
      "Original\n",
      "[[ 0  1  2  3]\n",
      " [ 4  5  6  7]\n",
      " [ 8  9 10 11]\n",
      " [12 13 14 15]\n",
      " [16 17 18 19]\n",
      " [20 21 22 23]]\n",
      "\n",
      "Vsplit\n",
      "v1\n",
      "[[0 1 2 3]\n",
      " [4 5 6 7]]\n",
      "v2\n",
      "[[ 8  9 10 11]\n",
      " [12 13 14 15]]\n",
      "v3\n",
      "[[16 17 18 19]\n",
      " [20 21 22 23]]\n",
      "\n",
      "Hsplit\n",
      "h1\n",
      "[[ 0  1]\n",
      " [ 4  5]\n",
      " [ 8  9]\n",
      " [12 13]\n",
      " [16 17]\n",
      " [20 21]]\n",
      "h2\n",
      "[[ 2  3]\n",
      " [ 6  7]\n",
      " [10 11]\n",
      " [14 15]\n",
      " [18 19]\n",
      " [22 23]]\n",
      "\n",
      "Split with axis option\n",
      "s1\n",
      "[[ 0  1]\n",
      " [ 4  5]\n",
      " [ 8  9]\n",
      " [12 13]\n",
      " [16 17]\n",
      " [20 21]]\n",
      "s2\n",
      "[[ 2  3]\n",
      " [ 6  7]\n",
      " [10 11]\n",
      " [14 15]\n",
      " [18 19]\n",
      " [22 23]]\n"
     ]
    }
   ],
   "source": [
    "r = np.arange(24).reshape(6,4)\n",
    "print('Original')\n",
    "print(r)\n",
    "print()\n",
    "\n",
    "print('Vsplit')\n",
    "v1,v2,v3 = np.vsplit(r,3)\n",
    "print('v1')\n",
    "print(v1)\n",
    "print('v2')\n",
    "print(v2)\n",
    "print('v3')\n",
    "print(v3)\n",
    "print()\n",
    "\n",
    "print('Hsplit')\n",
    "h1,h2 = np.hsplit(r,2)\n",
    "print('h1')\n",
    "print(h1)\n",
    "print('h2')\n",
    "print(h2)\n",
    "print()\n",
    "\n",
    "print('Split with axis option')\n",
    "s1,s2 = np.split(r,2,axis=1)\n",
    "print('s1')\n",
    "print(s1)\n",
    "print('s2')\n",
    "print(s2)"
   ]
  },
  {
   "cell_type": "markdown",
   "metadata": {},
   "source": [
    "### Saving and loading\n",
    "\n",
    "**Binary .npy format**  \n",
    "Numpy는 <code>np.save()</code>로서 저장하고 <code>np.load()</code>로서 저장한 Numpy Array를 불러올 수 있다.  \n",
    "File의 Format은 .npy이다."
   ]
  },
  {
   "cell_type": "code",
   "execution_count": 26,
   "metadata": {},
   "outputs": [
    {
     "name": "stdout",
     "output_type": "stream",
     "text": [
      "Saving\n",
      "[[0.35427376 0.3352868  0.74576787]\n",
      " [0.3903175  0.68743649 0.8433208 ]]\n",
      "\n",
      "Loading\n",
      "[[0.35427376 0.3352868  0.74576787]\n",
      " [0.3903175  0.68743649 0.8433208 ]]\n"
     ]
    }
   ],
   "source": [
    "print('Saving')\n",
    "a = np.random.rand(2,3)\n",
    "print(a)\n",
    "np.save('my_array',a)\n",
    "print()\n",
    "\n",
    "print('Loading')\n",
    "a_loaded = np.load('my_array.npy')\n",
    "print(a_loaded)"
   ]
  },
  {
   "cell_type": "markdown",
   "metadata": {},
   "source": [
    "**Text Format**  \n",
    "Numpy Array는 .csv FileFormat으로서 저장하고 불러올 수 있다.  \n",
    ".csv는 Tab으로서 구분 기호로 사용한다. 구분기호는 delimiter attribute를 통하여 사용자가 직접 지정할 수 있다."
   ]
  },
  {
   "cell_type": "code",
   "execution_count": 27,
   "metadata": {},
   "outputs": [
    {
     "name": "stdout",
     "output_type": "stream",
     "text": [
      "Saving\n",
      "\n",
      "Loading\n",
      "[[0.35427376 0.3352868  0.74576787]\n",
      " [0.3903175  0.68743649 0.8433208 ]]\n"
     ]
    }
   ],
   "source": [
    "print('Saving')\n",
    "np.savetxt('my_array.csv',a, delimiter=\",\")\n",
    "print()\n",
    "\n",
    "print('Loading')\n",
    "a_loaded = np.loadtxt('my_array.csv',delimiter=',')\n",
    "print(a_loaded)"
   ]
  },
  {
   "cell_type": "markdown",
   "metadata": {},
   "source": [
    "**Zipped .npz format**  \n",
    "여러개의 Numpy Array를 하나의 zipped file에 저장할 수 있다.  \n",
    "np.savez()로서 저장할 수 있고, 불러오는 것은 np.load()로서 동일하다.  \n",
    "저장 Format은 .npz이고, key:numpy형식으로 저장된다."
   ]
  },
  {
   "cell_type": "code",
   "execution_count": 28,
   "metadata": {},
   "outputs": [
    {
     "name": "stdout",
     "output_type": "stream",
     "text": [
      "b\n",
      "[[[ 0  1  2  3]\n",
      "  [ 4  5  6  7]\n",
      "  [ 8  9 10 11]]\n",
      "\n",
      " [[12 13 14 15]\n",
      "  [16 17 18 19]\n",
      "  [20 21 22 23]]]\n",
      "\n",
      "my_arrays\n",
      "<numpy.lib.npyio.NpzFile object at 0x0000017DD535D940>\n",
      "\n",
      "my_arrays keys\n",
      "my_a\n",
      "my_b\n",
      "\n",
      "my_b\n",
      "[[[ 0  1  2  3]\n",
      "  [ 4  5  6  7]\n",
      "  [ 8  9 10 11]]\n",
      "\n",
      " [[12 13 14 15]\n",
      "  [16 17 18 19]\n",
      "  [20 21 22 23]]]\n",
      "<class 'numpy.ndarray'>\n"
     ]
    }
   ],
   "source": [
    "b = np.arange(24,dtype=np.uint8).reshape(2,3,4)\n",
    "print('b')\n",
    "print(b)\n",
    "print()\n",
    "\n",
    "np.savez('my_arrays',my_a=a, my_b=b)\n",
    "my_arrays = np.load('my_arrays.npz')\n",
    "print('my_arrays')\n",
    "print(my_arrays)\n",
    "print()\n",
    "\n",
    "print('my_arrays keys')\n",
    "for k in my_arrays.keys():\n",
    "    print(k)\n",
    "print()\n",
    "\n",
    "print('my_b')\n",
    "print(my_arrays['my_b'])\n",
    "print(type(my_arrays['my_b']))"
   ]
  }
 ],
 "metadata": {
  "kernelspec": {
   "display_name": "Python 3",
   "language": "python",
   "name": "python3"
  },
  "language_info": {
   "codemirror_mode": {
    "name": "ipython",
    "version": 3
   },
   "file_extension": ".py",
   "mimetype": "text/x-python",
   "name": "python",
   "nbconvert_exporter": "python",
   "pygments_lexer": "ipython3",
   "version": "3.7.3"
  }
 },
 "nbformat": 4,
 "nbformat_minor": 4
}
