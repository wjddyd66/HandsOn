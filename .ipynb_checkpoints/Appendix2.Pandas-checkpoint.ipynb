{
 "cells": [
  {
   "cell_type": "markdown",
   "metadata": {},
   "source": [
    "### Appendix2. Pandas\n",
    "<a href=\"https://wjddyd66.github.io/dataanalysis/Pandas/\">Pandas</a>에서 Tool사용방법을 알아봤으나, 기초적인 부분에 대해서만 알아보고 많이 부족하다는 것을 깨달았다.  \n",
    "따라서 이번 Post는 Hands-on ML에서 부록 중 하나인 Pandas사용법을 알아보는 Post이다.  \n",
    "2D Dimension의 DataStructure에 사용하기 편하며, 많이 사용하는 DB와 같은 기능을 많이 지원해준다.  \n",
    "코드참조:<a href=\"https://github.com/ageron/handson-ml2\">Handson-ml2 Github</a>"
   ]
  },
  {
   "cell_type": "markdown",
   "metadata": {},
   "source": [
    "#### 필요한 Library import"
   ]
  },
  {
   "cell_type": "code",
   "execution_count": 1,
   "metadata": {},
   "outputs": [],
   "source": [
    "%matplotlib inline\n",
    "import matplotlib.pyplot as plt\n",
    "import pandas as pd\n",
    "import numpy as np"
   ]
  },
  {
   "cell_type": "markdown",
   "metadata": {},
   "source": [
    "### Series objects\n",
    "Pandas의 DataStructure중에 하나이다. Series는 1D array로서 Row는 Label, Column은 1개 존재하는 DataStruecture이다."
   ]
  },
  {
   "cell_type": "code",
   "execution_count": 2,
   "metadata": {},
   "outputs": [
    {
     "name": "stdout",
     "output_type": "stream",
     "text": [
      "0    2\n",
      "1   -1\n",
      "2    3\n",
      "3    5\n",
      "dtype: int64\n"
     ]
    }
   ],
   "source": [
    "s = pd.Series([2,-1,3,5])\n",
    "print(s)"
   ]
  },
  {
   "cell_type": "markdown",
   "metadata": {},
   "source": [
    "**Similar to a 1D ndarray**  \n",
    "1 Dimension Numpy Array와 Pandas의 Series는 유사한 부분이 많다.  \n",
    "Arithmetic operations과 Conditional operations또한 가능하고 Numpy와 마찬가지로 Broadcasting이 가능하다."
   ]
  },
  {
   "cell_type": "code",
   "execution_count": 3,
   "metadata": {},
   "outputs": [
    {
     "name": "stdout",
     "output_type": "stream",
     "text": [
      "numpy\n",
      "0      7.389056\n",
      "1      0.367879\n",
      "2     20.085537\n",
      "3    148.413159\n",
      "dtype: float64\n",
      "\n",
      "Arithmetic operations elementwise\n",
      "0    1002\n",
      "1    1999\n",
      "2    3003\n",
      "3    4005\n",
      "dtype: int64\n",
      "\n",
      "Broadcasting\n",
      "0    102\n",
      "1     99\n",
      "2    103\n",
      "3    105\n",
      "dtype: int64\n",
      "\n",
      "Conditional operations\n",
      "0    False\n",
      "1     True\n",
      "2    False\n",
      "3    False\n",
      "dtype: bool\n"
     ]
    }
   ],
   "source": [
    "numpy = np.exp(s)\n",
    "print('numpy')\n",
    "print(numpy)\n",
    "print()\n",
    "\n",
    "print('Arithmetic operations elementwise')\n",
    "print(s+[1000,2000,3000,4000])\n",
    "print()\n",
    "\n",
    "print('Broadcasting')\n",
    "print(s+100)\n",
    "print()\n",
    "\n",
    "print('Conditional operations')\n",
    "print(s<0)"
   ]
  },
  {
   "cell_type": "markdown",
   "metadata": {},
   "source": [
    "**Index labels**  \n",
    "Series의 Index를 지정하지 않으면 자동으로 0~... 으로서 지정된다.  \n",
    "이러한 Index는 특별한 값으로 Labeling가능하고, Index or Label로서 Series에 접근할 수 있다."
   ]
  },
  {
   "cell_type": "code",
   "execution_count": 4,
   "metadata": {},
   "outputs": [
    {
     "name": "stdout",
     "output_type": "stream",
     "text": [
      "alice       68\n",
      "bob         83\n",
      "charles    112\n",
      "darwin      68\n",
      "dtype: int64\n",
      "\n",
      "Accessing by Labels\n",
      "83\n",
      "\n",
      "Accessing by Index\n",
      "83\n",
      "\n",
      "Indexing\n",
      "bob         83\n",
      "charles    112\n",
      "dtype: int64\n",
      "\n"
     ]
    }
   ],
   "source": [
    "s2 = pd.Series([68, 83, 112, 68], index=[\"alice\", \"bob\", \"charles\", \"darwin\"])\n",
    "print(s2)\n",
    "print()\n",
    "\n",
    "print('Accessing by Labels')\n",
    "print(s2['bob'])\n",
    "print()\n",
    "\n",
    "print('Accessing by Index')\n",
    "print(s2[1])\n",
    "print()\n",
    "\n",
    "print('Indexing')\n",
    "print(s2[1:3])\n",
    "print()"
   ]
  },
  {
   "cell_type": "markdown",
   "metadata": {},
   "source": [
    "**Caution when Indexing Series**  \n",
    "Series를 Indexing할 때 매우 주의하여야 하는 점 이다. Series는 **처음 선언한 뒤 Indexing을 통해 Slicing이 가능하지만 한번 Slicing한 후에는 Indexing이 <code>.iloc</code>이 아닌 이상 안된다.**"
   ]
  },
  {
   "cell_type": "code",
   "execution_count": 5,
   "metadata": {},
   "outputs": [
    {
     "name": "stdout",
     "output_type": "stream",
     "text": [
      "2    1002\n",
      "3    1003\n",
      "dtype: int64\n",
      "\n",
      "Indexing -> Indexing\n",
      "Key Error 0\n",
      "\n",
      "Indexing -> Indexing by iloc\n",
      "1002\n"
     ]
    }
   ],
   "source": [
    "surprise = pd.Series([1000, 1001, 1002, 1003])\n",
    "surprise_slice = surprise.iloc[2:]\n",
    "print(surprise_slice)\n",
    "print()\n",
    "\n",
    "# Indexing -> Indexing\n",
    "print('Indexing -> Indexing')\n",
    "try:\n",
    "    surprise_slice[0]\n",
    "except KeyError as e:\n",
    "    print('Key Error',0)\n",
    "print()\n",
    "\n",
    "# Indexing -> Indexing by iloc\n",
    "print(\"Indexing -> Indexing by iloc\")\n",
    "print(surprise_slice.iloc[0])"
   ]
  },
  {
   "cell_type": "markdown",
   "metadata": {},
   "source": [
    "**Init form dict**  \n",
    "Series는 Dict형태를 통하여 정의될 수 있고, Specific 한 Labels를 통하여 Indexing이 가능하다."
   ]
  },
  {
   "cell_type": "code",
   "execution_count": 6,
   "metadata": {},
   "outputs": [
    {
     "name": "stdout",
     "output_type": "stream",
     "text": [
      "alice     68\n",
      "bob       83\n",
      "colin     86\n",
      "darwin    68\n",
      "dtype: int64\n",
      "\n",
      "colin    86\n",
      "alice    68\n",
      "dtype: int64\n",
      "\n",
      "colin    86\n",
      "alice    68\n",
      "dtype: int64\n"
     ]
    }
   ],
   "source": [
    "# Define Series by Dict\n",
    "weights = {\"alice\": 68, \"bob\": 83, \"colin\": 86, \"darwin\": 68}\n",
    "s3 = pd.Series(weights)\n",
    "print(s3)\n",
    "print()\n",
    "\n",
    "# Indexing by Labels\n",
    "s4 = pd.Series(weights,index=[\"colin\", \"alice\"])\n",
    "print(s4)\n",
    "print()\n",
    "\n",
    "s5 = pd.Series(s3,index=[\"colin\", \"alice\"])\n",
    "print(s5)"
   ]
  },
  {
   "cell_type": "markdown",
   "metadata": {},
   "source": [
    "**Automatic alignment**  \n",
    "Series는 Operation발생시 같은 Label끼리는 Operation을 진행하지만, Label이 다른 경우는 Operation을 진행하지 않는다.  \n",
    "**이러한 Matching되지 않는 Label끼리의 Operation결과는 NaN으로서 주어진다.**"
   ]
  },
  {
   "cell_type": "code",
   "execution_count": 7,
   "metadata": {},
   "outputs": [
    {
     "name": "stdout",
     "output_type": "stream",
     "text": [
      "Index(['alice', 'bob', 'charles', 'darwin'], dtype='object')\n",
      "Index(['alice', 'bob', 'colin', 'darwin'], dtype='object')\n",
      "\n",
      "s2+s3\n",
      "alice      136.0\n",
      "bob        166.0\n",
      "charles      NaN\n",
      "colin        NaN\n",
      "darwin     136.0\n",
      "dtype: float64\n"
     ]
    }
   ],
   "source": [
    "print(s2.keys())\n",
    "print(s3.keys())\n",
    "print()\n",
    "\n",
    "print('s2+s3')\n",
    "print(s2+s3)"
   ]
  },
  {
   "cell_type": "markdown",
   "metadata": {},
   "source": [
    "**Init with a scalar**  \n",
    "다양한 index labels에 같은 Scalar값을 선언할 수 있다."
   ]
  },
  {
   "cell_type": "code",
   "execution_count": 8,
   "metadata": {},
   "outputs": [
    {
     "name": "stdout",
     "output_type": "stream",
     "text": [
      "life          42\n",
      "universe      42\n",
      "everything    42\n",
      "dtype: int64\n"
     ]
    }
   ],
   "source": [
    "meaning = pd.Series(42,['life','universe','everything'])\n",
    "print(meaning)"
   ]
  },
  {
   "cell_type": "markdown",
   "metadata": {},
   "source": [
    "**Series name**  \n",
    "하나의 Series는 하나의 이름을 가질 수 있다."
   ]
  },
  {
   "cell_type": "code",
   "execution_count": 9,
   "metadata": {},
   "outputs": [
    {
     "name": "stdout",
     "output_type": "stream",
     "text": [
      "bob      83\n",
      "alice    68\n",
      "Name: weights, dtype: int64\n"
     ]
    }
   ],
   "source": [
    "s6 = pd.Series([83,68],index=['bob','alice'],name='weights')\n",
    "print(s6)"
   ]
  },
  {
   "cell_type": "markdown",
   "metadata": {},
   "source": [
    "**Plotting a Series**  \n",
    "Series는 matplotlib을 통하여 간편하게 Visualization할 수 있다.  \n",
    "자세한 내용은 <a href=\"https://pandas.pydata.org/pandas-docs/stable/user_guide/visualization.html\">Pandas-Visualization</a>과 <a href=\"../Appendix3.matplotlib\">Appendix3.matplotlib</a>을 참조하자."
   ]
  },
  {
   "cell_type": "code",
   "execution_count": 10,
   "metadata": {},
   "outputs": [
    {
     "data": {
      "image/png": "[encoded data removed]",
      "text/plain": [
       "<Figure size 432x288 with 1 Axes>"
      ]
     },
     "metadata": {
      "needs_background": "light"
     },
     "output_type": "display_data"
    }
   ],
   "source": [
    "temperatures = [4.4,5.1,6.1,6.2,6.1,6.1,5.7,5.2,4.7,4.1,3.9,3.5]\n",
    "s7 = pd.Series(temperatures, name=\"Temperature\")\n",
    "s7.plot()\n",
    "plt.show()"
   ]
  },
  {
   "cell_type": "markdown",
   "metadata": {},
   "source": [
    "### Handling time\n",
    "pandas는 timestamps data를 쉽게 다룰 수 있게 되어있다.\n",
    "- 2016Q3과 같은 기간이나 frequencies(such as 'monthly')를 다룰 수 있다.\n",
    "- 기간을 시간 Data로서 변경 가능하고 그 반대또한 가능하다.\n",
    "- Data를 Resampling하거나 모을 수 있다.\n",
    "\n",
    "<br>\n",
    "\n",
    "**Time range**  \n",
    "<code>pd.date_range()</code>를 통하여 Timestamps Data를 다룰 수 있다."
   ]
  },
  {
   "cell_type": "code",
   "execution_count": 11,
   "metadata": {},
   "outputs": [
    {
     "name": "stdout",
     "output_type": "stream",
     "text": [
      "DatetimeIndex(['2016-10-29 17:30:00', '2016-10-29 18:30:00',\n",
      "               '2016-10-29 19:30:00', '2016-10-29 20:30:00',\n",
      "               '2016-10-29 21:30:00', '2016-10-29 22:30:00',\n",
      "               '2016-10-29 23:30:00', '2016-10-30 00:30:00',\n",
      "               '2016-10-30 01:30:00', '2016-10-30 02:30:00',\n",
      "               '2016-10-30 03:30:00', '2016-10-30 04:30:00'],\n",
      "              dtype='datetime64[ns]', freq='H')\n"
     ]
    }
   ],
   "source": [
    "dates = pd.date_range('2016/10/29 5:30pm', periods=12, freq='H')\n",
    "print(dates)"
   ]
  },
  {
   "cell_type": "markdown",
   "metadata": {},
   "source": [
    "TimeSeries는 위와 같이 Date를 Index로서 사용 가능하다."
   ]
  },
  {
   "cell_type": "code",
   "execution_count": 12,
   "metadata": {},
   "outputs": [
    {
     "name": "stdout",
     "output_type": "stream",
     "text": [
      "2016-10-29 17:30:00    4.4\n",
      "2016-10-29 18:30:00    5.1\n",
      "2016-10-29 19:30:00    6.1\n",
      "2016-10-29 20:30:00    6.2\n",
      "2016-10-29 21:30:00    6.1\n",
      "2016-10-29 22:30:00    6.1\n",
      "2016-10-29 23:30:00    5.7\n",
      "2016-10-30 00:30:00    5.2\n",
      "2016-10-30 01:30:00    4.7\n",
      "2016-10-30 02:30:00    4.1\n",
      "2016-10-30 03:30:00    3.9\n",
      "2016-10-30 04:30:00    3.5\n",
      "Freq: H, dtype: float64\n"
     ]
    }
   ],
   "source": [
    "temp_series = pd.Series(temperatures,dates)\n",
    "print(temp_series)"
   ]
  },
  {
   "cell_type": "markdown",
   "metadata": {},
   "source": [
    "VIsualization"
   ]
  },
  {
   "cell_type": "code",
   "execution_count": 13,
   "metadata": {},
   "outputs": [
    {
     "data": {
      "image/png": "[encoded data removed]",
      "text/plain": [
       "<Figure size 432x288 with 1 Axes>"
      ]
     },
     "metadata": {
      "needs_background": "light"
     },
     "output_type": "display_data"
    }
   ],
   "source": [
    "temp_series.plot(kind='bar')\n",
    "\n",
    "plt.grid(True)\n",
    "plt.show()"
   ]
  },
  {
   "cell_type": "markdown",
   "metadata": {},
   "source": [
    "**Resample**  \n",
    "Series는 원하는 Frequency로서 ReSampling가능 하다.  \n",
    "아래 그림을 살펴보면 이해하기 편하다.  \n",
    "<img src=\"https://t1.daumcdn.net/cfile/tistory/994749455DF4FD4C1D\"><br>\n",
    "사진 출처:<a href=\"https://rfriend.tistory.com/494\">rfriends Blog</a>  \n",
    "\n",
    "즉, 위의 Frequency가 1H인 Series를 2H로서 resampling하면 2개의 값들이 묶이게 되는 것 이다.  \n",
    "이렇게 묶인 값들의 .first() or .sum()과 같은 Function을 적용 가능하다."
   ]
  },
  {
   "cell_type": "code",
   "execution_count": 14,
   "metadata": {},
   "outputs": [
    {
     "name": "stdout",
     "output_type": "stream",
     "text": [
      "DatetimeIndexResampler [freq=<2 * Hours>, axis=0, closed=left, label=left, convention=start, base=0]\n"
     ]
    },
    {
     "data": {
      "image/png": "[encoded data removed]",
      "text/plain": [
       "<Figure size 432x288 with 1 Axes>"
      ]
     },
     "metadata": {
      "needs_background": "light"
     },
     "output_type": "display_data"
    }
   ],
   "source": [
    "temp_series_freq_2H = temp_series.resample(\"2H\")\n",
    "print(temp_series_freq_2H)\n",
    "\n",
    "# Apply Mean\n",
    "temp_series_freq_2H = temp_series_freq_2H.mean()\n",
    "temp_series_freq_2H.plot(kind=\"bar\")\n",
    "plt.show()"
   ]
  },
  {
   "cell_type": "markdown",
   "metadata": {},
   "source": [
    "Function을 적용하는 방법은 위와 같이 .mean()도 가능하지만 .apply(np.mean())과 같은 형식도 적용 가능하다."
   ]
  },
  {
   "cell_type": "code",
   "execution_count": 15,
   "metadata": {},
   "outputs": [
    {
     "name": "stdout",
     "output_type": "stream",
     "text": [
      "2016-10-29 16:00:00    4.40\n",
      "2016-10-29 18:00:00    5.60\n",
      "2016-10-29 20:00:00    6.15\n",
      "2016-10-29 22:00:00    5.90\n",
      "2016-10-30 00:00:00    4.95\n",
      "2016-10-30 02:00:00    4.00\n",
      "2016-10-30 04:00:00    3.50\n",
      "Freq: 2H, dtype: float64\n"
     ]
    }
   ],
   "source": [
    "temp_series_freq_2H = temp_series.resample(\"2H\").apply(np.mean)\n",
    "print(temp_series_freq_2H)"
   ]
  },
  {
   "cell_type": "markdown",
   "metadata": {},
   "source": [
    "**Upsampling and interpolation**  \n",
    "위에서는 Frequency를 Decrease하였다.  \n",
    "**Upsampling시에는 존재하지 않는 값을 NaN으로서 처리하게 되며, 이러한 NaN값을 채우는 방법은 다양하게 존재한다.**"
   ]
  },
  {
   "cell_type": "code",
   "execution_count": 16,
   "metadata": {},
   "outputs": [
    {
     "name": "stdout",
     "output_type": "stream",
     "text": [
      "Upsampling\n",
      "2016-10-29 17:30:00    4.4\n",
      "2016-10-29 17:45:00    NaN\n",
      "2016-10-29 18:00:00    NaN\n",
      "2016-10-29 18:15:00    NaN\n",
      "2016-10-29 18:30:00    5.1\n",
      "2016-10-29 18:45:00    NaN\n",
      "2016-10-29 19:00:00    NaN\n",
      "2016-10-29 19:15:00    NaN\n",
      "2016-10-29 19:30:00    6.1\n",
      "2016-10-29 19:45:00    NaN\n",
      "Freq: 15T, dtype: float64\n",
      "\n",
      "Linear interpolate(cubic)\n",
      "2016-10-29 17:30:00    4.400000\n",
      "2016-10-29 17:45:00    4.452911\n",
      "2016-10-29 18:00:00    4.605113\n",
      "2016-10-29 18:15:00    4.829758\n",
      "2016-10-29 18:30:00    5.100000\n",
      "2016-10-29 18:45:00    5.388992\n",
      "2016-10-29 19:00:00    5.669887\n",
      "2016-10-29 19:15:00    5.915839\n",
      "2016-10-29 19:30:00    6.100000\n",
      "2016-10-29 19:45:00    6.203621\n",
      "Freq: 15T, dtype: float64\n",
      "\n"
     ]
    },
    {
     "data": {
      "image/png": "[encoded data removed]",
      "text/plain": [
       "<Figure size 432x288 with 1 Axes>"
      ]
     },
     "metadata": {
      "needs_background": "light"
     },
     "output_type": "display_data"
    }
   ],
   "source": [
    "print('Upsampling')\n",
    "temp_series_freq_15min = temp_series.resample(\"15Min\").mean()\n",
    "print(temp_series_freq_15min.head(n=10)) # `head` displays the top n values\n",
    "print()\n",
    "\n",
    "print('Linear interpolate(cubic)')\n",
    "temp_series_freq_15min = temp_series.resample(\"15Min\").interpolate(method=\"cubic\")\n",
    "print(temp_series_freq_15min.head(n=10))\n",
    "print()\n",
    "\n",
    "# Visualization: Using interpolate is more smmother than no iterpolate\n",
    "temp_series.plot(label=\"Period: 1 hour\")\n",
    "temp_series_freq_15min.plot(label=\"Period: 15 minutes\")\n",
    "plt.legend()\n",
    "plt.show()"
   ]
  },
  {
   "cell_type": "markdown",
   "metadata": {},
   "source": [
    "**Timezones**  \n",
    "각 지역마다 기준 시간이 다르다.  \n",
    "Pandas의 Series는 이러한 시간을 <code>.tz_localize()</code>를 사용하여 특정 지역에 맞게 설정할 수 있다."
   ]
  },
  {
   "cell_type": "code",
   "execution_count": 17,
   "metadata": {},
   "outputs": [
    {
     "name": "stdout",
     "output_type": "stream",
     "text": [
      "America/New_York\n",
      "2016-10-29 17:30:00-04:00    4.4\n",
      "2016-10-29 18:30:00-04:00    5.1\n",
      "2016-10-29 19:30:00-04:00    6.1\n",
      "2016-10-29 20:30:00-04:00    6.2\n",
      "2016-10-29 21:30:00-04:00    6.1\n",
      "2016-10-29 22:30:00-04:00    6.1\n",
      "2016-10-29 23:30:00-04:00    5.7\n",
      "2016-10-30 00:30:00-04:00    5.2\n",
      "2016-10-30 01:30:00-04:00    4.7\n",
      "2016-10-30 02:30:00-04:00    4.1\n",
      "2016-10-30 03:30:00-04:00    3.9\n",
      "2016-10-30 04:30:00-04:00    3.5\n",
      "Freq: H, dtype: float64\n",
      "\n",
      "Europe/Paris\n",
      "2016-10-29 23:30:00+02:00    4.4\n",
      "2016-10-30 00:30:00+02:00    5.1\n",
      "2016-10-30 01:30:00+02:00    6.1\n",
      "2016-10-30 02:30:00+02:00    6.2\n",
      "2016-10-30 02:30:00+01:00    6.1\n",
      "2016-10-30 03:30:00+01:00    6.1\n",
      "2016-10-30 04:30:00+01:00    5.7\n",
      "2016-10-30 05:30:00+01:00    5.2\n",
      "2016-10-30 06:30:00+01:00    4.7\n",
      "2016-10-30 07:30:00+01:00    4.1\n",
      "2016-10-30 08:30:00+01:00    3.9\n",
      "2016-10-30 09:30:00+01:00    3.5\n",
      "Freq: H, dtype: float64\n"
     ]
    }
   ],
   "source": [
    "print('America/New_York')\n",
    "temp_series_ny = temp_series.tz_localize(\"America/New_York\")\n",
    "print(temp_series_ny)\n",
    "print()\n",
    "\n",
    "print('Europe/Paris')\n",
    "temp_series_paris = temp_series_ny.tz_convert(\"Europe/Paris\")\n",
    "print(temp_series_paris)"
   ]
  },
  {
   "cell_type": "markdown",
   "metadata": {},
   "source": [
    "**Periods**  \n",
    "위의 Pandas로 다룬 Data들은 시간으로서 표현되었다.  \n",
    "Series는 이러한 시간이 아니라 기간으로서 표현이 가능하다."
   ]
  },
  {
   "cell_type": "code",
   "execution_count": 18,
   "metadata": {},
   "outputs": [
    {
     "name": "stdout",
     "output_type": "stream",
     "text": [
      "PeriodIndex(['2016Q1', '2016Q2', '2016Q3', '2016Q4', '2017Q1', '2017Q2',\n",
      "             '2017Q3', '2017Q4'],\n",
      "            dtype='period[Q-DEC]', freq='Q-DEC')\n",
      "\n",
      "Arothmetic operation\n",
      "PeriodIndex(['2016Q4', '2017Q1', '2017Q2', '2017Q3', '2017Q4', '2018Q1',\n",
      "             '2018Q2', '2018Q3'],\n",
      "            dtype='period[Q-DEC]', freq='Q-DEC')\n"
     ]
    }
   ],
   "source": [
    "quarters = pd.period_range('2016Q1', periods=8, freq='Q')\n",
    "print(quarters)\n",
    "print()\n",
    "\n",
    "print('Arothmetic operation')\n",
    "print(quarters+3)"
   ]
  },
  {
   "cell_type": "markdown",
   "metadata": {},
   "source": [
    "Period중 좀더 Detail하게 선택하는 것은 <code>.asfreq()</code>를 통하여 설정할 수 있다."
   ]
  },
  {
   "cell_type": "code",
   "execution_count": 19,
   "metadata": {},
   "outputs": [
    {
     "name": "stdout",
     "output_type": "stream",
     "text": [
      "First of Quartile\n",
      "PeriodIndex(['2016-01', '2016-04', '2016-07', '2016-10', '2017-01', '2017-04',\n",
      "             '2017-07', '2017-10'],\n",
      "            dtype='period[M]', freq='M')\n",
      "\n",
      "Last of Quartile\n",
      "PeriodIndex(['2016-03', '2016-06', '2016-09', '2016-12', '2017-03', '2017-06',\n",
      "             '2017-09', '2017-12'],\n",
      "            dtype='period[M]', freq='M')\n"
     ]
    }
   ],
   "source": [
    "print('First of Quartile')\n",
    "print(quarters.asfreq('M',how='start'))\n",
    "print()\n",
    "\n",
    "print('Last of Quartile')\n",
    "print(quarters.asfreq('M'))"
   ]
  },
  {
   "cell_type": "markdown",
   "metadata": {},
   "source": [
    "Period -> Frequency로서의 변환은 <code>.to_timestamp</code>로서 변경된다.  \n",
    "Frequency -> Period는 <code>.to_period</code>로서 변경된다."
   ]
  },
  {
   "cell_type": "code",
   "execution_count": 20,
   "metadata": {},
   "outputs": [
    {
     "name": "stdout",
     "output_type": "stream",
     "text": [
      "Period -> Frequency\n",
      "DatetimeIndex(['2016-01-31', '2016-04-30', '2016-07-31', '2016-10-31',\n",
      "               '2017-01-31', '2017-04-30', '2017-07-31', '2017-10-31'],\n",
      "              dtype='datetime64[ns]', freq='Q-OCT')\n",
      "\n",
      "Frequency -> Period\n",
      "PeriodIndex(['2016Q1', '2016Q2', '2016Q3', '2016Q4', '2017Q1', '2017Q2',\n",
      "             '2017Q3', '2017Q4'],\n",
      "            dtype='period[Q-OCT]', freq='Q-OCT')\n"
     ]
    },
    {
     "data": {
      "image/png": "[encoded data removed]",
      "text/plain": [
       "<Figure size 432x288 with 1 Axes>"
      ]
     },
     "metadata": {
      "needs_background": "light"
     },
     "output_type": "display_data"
    }
   ],
   "source": [
    "print('Period -> Frequency')\n",
    "last_hours = quarters.to_timestamp(\"M\")\n",
    "print(last_hours)\n",
    "print()\n",
    "\n",
    "print('Frequency -> Period')\n",
    "print(last_hours.to_period())\n",
    "\n",
    "# Visualization\n",
    "test = pd.Series([100,200,150,50,250,300,400,10],last_hours.to_period()).plot(kind='line')\n",
    "plt.show()"
   ]
  },
  {
   "cell_type": "markdown",
   "metadata": {},
   "source": [
    "**참조(Time series/ date functionality)**  \n",
    "Time Series와 date Function에 관련된 것은 <a href=\"https://pandas.pydata.org/pandas-docs/stable/user_guide/timeseries.html\">Time series/ date functionality</a>를 참조하자."
   ]
  },
  {
   "cell_type": "markdown",
   "metadata": {},
   "source": [
    "### DataFrame\n",
    "DataFrame이란 Series의 집합으로 생각하면 편하다.  \n",
    "즉 1D Array의 집합으로서 2D Array로서 Row와 Columns로 표현하게 되고 이러한 구조는 일반적인 DB의 자료 구조와 비슷하다."
   ]
  },
  {
   "cell_type": "code",
   "execution_count": 21,
   "metadata": {},
   "outputs": [
    {
     "name": "stdout",
     "output_type": "stream",
     "text": [
      "         weight  birthyear  children    hobby\n",
      "alice        68       1985       NaN   Biking\n",
      "bob          83       1984       3.0  Dancing\n",
      "charles     112       1992       0.0      NaN\n",
      "\n",
      "Access via Labels\n",
      "alice      1985\n",
      "bob        1984\n",
      "charles    1992\n",
      "Name: birthyear, dtype: int64\n",
      "\n",
      "         birthyear    hobby\n",
      "alice         1985   Biking\n",
      "bob           1984  Dancing\n",
      "charles       1992      NaN\n",
      "\n",
      "        birthyear  weight height\n",
      "bob        1984.0    83.0    NaN\n",
      "alice      1985.0    68.0    NaN\n",
      "eugene        NaN     NaN    NaN\n"
     ]
    }
   ],
   "source": [
    "people_dict = {\n",
    "    \"weight\": pd.Series([68, 83, 112], index=[\"alice\", \"bob\", \"charles\"]),\n",
    "    \"birthyear\": pd.Series([1984, 1985, 1992], index=[\"bob\", \"alice\", \"charles\"], name=\"year\"),\n",
    "    \"children\": pd.Series([0, 3], index=[\"charles\", \"bob\"]),\n",
    "    \"hobby\": pd.Series([\"Biking\", \"Dancing\"], index=[\"alice\", \"bob\"]),\n",
    "}\n",
    "people = pd.DataFrame(people_dict)\n",
    "print(people)\n",
    "print()\n",
    "\n",
    "# Access via Labels\n",
    "print('Access via Labels')\n",
    "print(people['birthyear'])\n",
    "print()\n",
    "print(people[['birthyear','hobby']])\n",
    "print()\n",
    "\n",
    "# Indexing via Specific columns & rows\n",
    "d2 = pd.DataFrame(\n",
    "        people_dict,\n",
    "        columns=[\"birthyear\", \"weight\", \"height\"],\n",
    "        index=[\"bob\", \"alice\", \"eugene\"]\n",
    "     )\n",
    "print(d2)"
   ]
  },
  {
   "cell_type": "markdown",
   "metadata": {},
   "source": [
    "특정 값과 Index를 직접 지정하고 DataFrame을 지정할 수 있고, 또한 Nan값은 <code>np.nan</code>으로서 지정 가능하다."
   ]
  },
  {
   "cell_type": "code",
   "execution_count": 22,
   "metadata": {},
   "outputs": [
    {
     "name": "stdout",
     "output_type": "stream",
     "text": [
      "         birthyear  children    hobby  weight\n",
      "alice         1985       NaN   Biking      68\n",
      "bob           1984       3.0  Dancing      83\n",
      "charles       1992       0.0      NaN     112\n"
     ]
    }
   ],
   "source": [
    "values = [\n",
    "            [1985, np.nan, \"Biking\",   68],\n",
    "            [1984, 3,      \"Dancing\",  83],\n",
    "            [1992, 0,      np.nan,    112]\n",
    "         ]\n",
    "d3 = pd.DataFrame(\n",
    "        values,\n",
    "        columns=[\"birthyear\", \"children\", \"hobby\", \"weight\"],\n",
    "        index=[\"alice\", \"bob\", \"charles\"]\n",
    "     )\n",
    "print(d3)"
   ]
  },
  {
   "cell_type": "markdown",
   "metadata": {},
   "source": [
    "위에서는 Series와 List로서 Index Data를 지정하였지만, 가장 많이 사용하는 방법으로서(개인적으로) Dict 형식으로 선언하여 자동으로 Mapping되게 할 수 있다."
   ]
  },
  {
   "cell_type": "code",
   "execution_count": 23,
   "metadata": {},
   "outputs": [
    {
     "name": "stdout",
     "output_type": "stream",
     "text": [
      "         birthyear    hobby  weight  children\n",
      "alice         1985   Biking      68       NaN\n",
      "bob           1984  Dancing      83       3.0\n",
      "charles       1992      NaN     112       0.0\n"
     ]
    }
   ],
   "source": [
    "people = pd.DataFrame({\n",
    "    \"birthyear\": {\"alice\":1985, \"bob\": 1984, \"charles\": 1992},\n",
    "    \"hobby\": {\"alice\":\"Biking\", \"bob\": \"Dancing\"},\n",
    "    \"weight\": {\"alice\":68, \"bob\": 83, \"charles\": 112},\n",
    "    \"children\": {\"bob\": 3, \"charles\": 0}\n",
    "})\n",
    "print(people)"
   ]
  },
  {
   "cell_type": "markdown",
   "metadata": {},
   "source": [
    "**Multi-indexing**  \n",
    "**Pandas의 모든 ROW는 같은 Columns의 수를 가지고 있다.** 이러한 특징 때문에 Indexing을 할 때 Multi-Indexing이 가능하다.  \n",
    "아래 예시를 살펴보게 되면 public, private로서 1차적으로 Indexing하여 Dataframe을 재 구축 하였고, 2차적으로 Paris와 London으로서 나누게 되었다.  \n",
    "이러한 결과로서 Multi-Index중에서 Specific한 Index를 설정하고 접근하여 값을 확인할 수 있다."
   ]
  },
  {
   "cell_type": "code",
   "execution_count": 24,
   "metadata": {},
   "outputs": [
    {
     "name": "stdout",
     "output_type": "stream",
     "text": [
      "                  public          private         \n",
      "               birthyear    hobby  weight children\n",
      "Paris  alice        1985   Biking      68      NaN\n",
      "       bob          1984  Dancing      83      3.0\n",
      "London charles      1992      NaN     112      0.0\n",
      "\n",
      "                birthyear    hobby\n",
      "Paris  alice         1985   Biking\n",
      "       bob           1984  Dancing\n",
      "London charles       1992      NaN\n",
      "\n",
      "Paris   alice       Biking\n",
      "        bob        Dancing\n",
      "London  charles        NaN\n",
      "Name: (public, hobby), dtype: object\n"
     ]
    }
   ],
   "source": [
    "d5 = pd.DataFrame(\n",
    "  {\n",
    "    (\"public\", \"birthyear\"):\n",
    "        {(\"Paris\",\"alice\"):1985, (\"Paris\",\"bob\"): 1984, (\"London\",\"charles\"): 1992},\n",
    "    (\"public\", \"hobby\"):\n",
    "        {(\"Paris\",\"alice\"):\"Biking\", (\"Paris\",\"bob\"): \"Dancing\"},\n",
    "    (\"private\", \"weight\"):\n",
    "        {(\"Paris\",\"alice\"):68, (\"Paris\",\"bob\"): 83, (\"London\",\"charles\"): 112},\n",
    "    (\"private\", \"children\"):\n",
    "        {(\"Paris\", \"alice\"):np.nan, (\"Paris\",\"bob\"): 3, (\"London\",\"charles\"): 0}\n",
    "  }\n",
    ")\n",
    "print(d5)\n",
    "print()\n",
    "\n",
    "# Indexing via public column\n",
    "print(d5['public'])\n",
    "print()\n",
    "# Indexing via public column & hobby column\n",
    "print(d5['public','hobby'])"
   ]
  },
  {
   "cell_type": "markdown",
   "metadata": {},
   "source": [
    "**Dropping a level**  \n",
    "위에서 Multi-Indexing을 통한 결과는 Level이 2단계라고 할 수 있다.  \n",
    "기본적인 Level -> public, private & London, Paris로서 Reconsturcting을 거쳤기 때문이다.  \n",
    "따라서 이러한 Level을 Down시켜 보는 방법은 <code>columns.droplevel()</code>로서 drop 시킬 특정 level을 Argument로 입력한다."
   ]
  },
  {
   "cell_type": "code",
   "execution_count": 25,
   "metadata": {},
   "outputs": [
    {
     "name": "stdout",
     "output_type": "stream",
     "text": [
      "                birthyear    hobby  weight  children\n",
      "Paris  alice         1985   Biking      68       NaN\n",
      "       bob           1984  Dancing      83       3.0\n",
      "London charles       1992      NaN     112       0.0\n"
     ]
    }
   ],
   "source": [
    "d5.columns = d5.columns.droplevel(level = 0)\n",
    "print(d5)"
   ]
  },
  {
   "cell_type": "markdown",
   "metadata": {},
   "source": [
    "**Tranposing**  \n",
    "<code>T</code> attribute를 통하여 전치 시킬 수 있다."
   ]
  },
  {
   "cell_type": "code",
   "execution_count": 26,
   "metadata": {},
   "outputs": [
    {
     "name": "stdout",
     "output_type": "stream",
     "text": [
      "            Paris           London\n",
      "            alice      bob charles\n",
      "birthyear    1985     1984    1992\n",
      "hobby      Biking  Dancing     NaN\n",
      "weight         68       83     112\n",
      "children      NaN        3       0\n"
     ]
    }
   ],
   "source": [
    "d6 = d5.T\n",
    "print(d6)"
   ]
  },
  {
   "cell_type": "markdown",
   "metadata": {},
   "source": [
    "**Stacking and unstacking levels**  \n",
    "<code>stack</code>으로서 가장 낮은 column기준으로 쌓을 수 있고, <code>unstack</code>으로서 풀 수 있다. unstack시 존재하지 않는 값에 대해서는 NaN으로서 처리한다."
   ]
  },
  {
   "cell_type": "code",
   "execution_count": 27,
   "metadata": {},
   "outputs": [
    {
     "name": "stdout",
     "output_type": "stream",
     "text": [
      "Original\n",
      "            Paris           London\n",
      "            alice      bob charles\n",
      "birthyear    1985     1984    1992\n",
      "hobby      Biking  Dancing     NaN\n",
      "weight         68       83     112\n",
      "children      NaN        3       0\n",
      "\n",
      "Stacking\n",
      "                  London    Paris\n",
      "birthyear alice      NaN     1985\n",
      "          bob        NaN     1984\n",
      "          charles   1992      NaN\n",
      "hobby     alice      NaN   Biking\n",
      "          bob        NaN  Dancing\n",
      "weight    alice      NaN       68\n",
      "          bob        NaN       83\n",
      "          charles    112      NaN\n",
      "children  bob        NaN        3\n",
      "          charles      0      NaN\n",
      "\n",
      "Unstacking\n",
      "          London                Paris                 \n",
      "           alice  bob charles   alice      bob charles\n",
      "birthyear    NaN  NaN    1992    1985     1984     NaN\n",
      "hobby        NaN  NaN     NaN  Biking  Dancing     NaN\n",
      "weight       NaN  NaN     112      68       83     NaN\n",
      "children     NaN  NaN       0     NaN        3     NaN\n"
     ]
    }
   ],
   "source": [
    "print('Original')\n",
    "print(d6)\n",
    "print()\n",
    "\n",
    "print('Stacking')\n",
    "d7 = d6.stack()\n",
    "print(d7)\n",
    "print()\n",
    "\n",
    "print('Unstacking')\n",
    "d8 = d7.unstack()\n",
    "print(d8)"
   ]
  },
  {
   "cell_type": "markdown",
   "metadata": {},
   "source": [
    "**Accessing rows**  \n",
    "Numpy와 같이 rows를 통하여 접근이 가능하다.  \n",
    "<code>.loc</code>을 통하여 Row Label로서 접근하거나 <code>.iloc</code>을 통하여 Row Index로서 접근한다.  \n",
    "Indexing 및 Conditional Accessing, Boolean 을 사용하여 접근 모두 가능하다."
   ]
  },
  {
   "cell_type": "code",
   "execution_count": 28,
   "metadata": {},
   "outputs": [
    {
     "name": "stdout",
     "output_type": "stream",
     "text": [
      "Original\n",
      "         birthyear    hobby  weight  children\n",
      "alice         1985   Biking      68       NaN\n",
      "bob           1984  Dancing      83       3.0\n",
      "charles       1992      NaN     112       0.0\n",
      "\n",
      "Access via rows by using .lic\n",
      "birthyear    1992\n",
      "hobby         NaN\n",
      "weight        112\n",
      "children        0\n",
      "Name: charles, dtype: object\n",
      "\n",
      "Access via rows by using .iloc\n",
      "birthyear    1992\n",
      "hobby         NaN\n",
      "weight        112\n",
      "children        0\n",
      "Name: charles, dtype: object\n",
      "\n",
      "Useing Boolean Array\n",
      "         birthyear   hobby  weight  children\n",
      "alice         1985  Biking      68       NaN\n",
      "charles       1992     NaN     112       0.0\n",
      "\n",
      "Conditional Accessing\n",
      "       birthyear    hobby  weight  children\n",
      "alice       1985   Biking      68       NaN\n",
      "bob         1984  Dancing      83       3.0\n"
     ]
    }
   ],
   "source": [
    "print('Original')\n",
    "print(people)\n",
    "print()\n",
    "\n",
    "print('Access via rows by using .lic')\n",
    "print(people.loc['charles'])\n",
    "print()\n",
    "\n",
    "print('Access via rows by using .iloc')\n",
    "print(people.iloc[2])\n",
    "print()\n",
    "\n",
    "print('Useing Boolean Array')\n",
    "print(people[np.array([True, False, True])])\n",
    "print()\n",
    "\n",
    "print('Conditional Accessing')\n",
    "print(people[people['birthyear']<1990])"
   ]
  },
  {
   "cell_type": "markdown",
   "metadata": {},
   "source": [
    "**Adding and removing columns**  \n",
    "Column을 추가하는 방법은 다음과 같다. (Row가 Mapping되지 않으면 NaN값으로 들어가게 된다.)  \n",
    "- Dict Type을 통하여 Row에 Mapping하여 추가\n",
    "- Indexing을 통하여 순서대로 Row의 값 추가 (<code>.insert()</code>사용)\n",
    "- Conditional or Arthmetic operation으로서 추가\n",
    "\n",
    "Column을 삭제하는 방법은 다음과 같다.\n",
    "- del 사용\n",
    "- pop 사용\n"
   ]
  },
  {
   "cell_type": "code",
   "execution_count": 29,
   "metadata": {},
   "outputs": [
    {
     "name": "stdout",
     "output_type": "stream",
     "text": [
      "Original\n",
      "         birthyear    hobby  weight  children\n",
      "alice         1985   Biking      68       NaN\n",
      "bob           1984  Dancing      83       3.0\n",
      "charles       1992      NaN     112       0.0\n",
      "\n",
      "Adding Columns by Conditional & Arthmetic operation\n",
      "         birthyear    hobby  weight  children  age  over 30\n",
      "alice         1985   Biking      68       NaN   33     True\n",
      "bob           1984  Dancing      83       3.0   34     True\n",
      "charles       1992      NaN     112       0.0   26    False\n",
      "\n",
      "Removing Columns by Using .pop and del\n",
      "           hobby  weight  age  over 30\n",
      "alice     Biking      68   33     True\n",
      "bob      Dancing      83   34     True\n",
      "charles      NaN     112   26    False\n",
      "\n",
      "Adding Columns by Using Dict\n",
      "           hobby  weight  age  over 30  pets\n",
      "alice     Biking      68   33     True   NaN\n",
      "bob      Dancing      83   34     True   0.0\n",
      "charles      NaN     112   26    False   5.0\n",
      "\n",
      "Adding Columns by Using .insert\n",
      "           hobby  height  weight  age  over 30  pets\n",
      "alice     Biking     172      68   33     True   NaN\n",
      "bob      Dancing     181      83   34     True   0.0\n",
      "charles      NaN     185     112   26    False   5.0\n"
     ]
    }
   ],
   "source": [
    "print('Original')\n",
    "print(people)\n",
    "print()\n",
    "\n",
    "print('Adding Columns by Conditional & Arthmetic operation')\n",
    "people[\"age\"] = 2018 - people[\"birthyear\"]  # adds a new column \"age\" (Arthmetic operation)\n",
    "people[\"over 30\"] = people[\"age\"] > 30      # adds another column \"over 30\" (Conditional operation)\n",
    "print(people)\n",
    "print()\n",
    "\n",
    "print('Removing Columns by Using .pop and del')\n",
    "birthyears = people.pop(\"birthyear\")\n",
    "del people[\"children\"]\n",
    "print(people)\n",
    "print()\n",
    "\n",
    "print('Adding Columns by Using Dict')\n",
    "people[\"pets\"] = pd.Series({\"bob\": 0, \"charles\": 5, \"eugene\":1})  # alice is missing, eugene is ignored\n",
    "print(people)\n",
    "print()\n",
    "\n",
    "print('Adding Columns by Using .insert')\n",
    "people.insert(1,'height',[172,181,185])\n",
    "print(people)"
   ]
  },
  {
   "cell_type": "markdown",
   "metadata": {},
   "source": [
    "**Assigning new columns**  \n",
    "새롭게 columns를 추가하는 방법으로 <code>assign()</code>으로 추가하는 방법이 있다.  \n",
    "위와 같이 Arthmetic or Conditional Operation으로서 추가 가능하지만 중요한 점은 다음과 같다.\n",
    "1. 원래의 DataFrame은 값이 변하지 않으므로 Return Object를 선언하여 받아야 한다.\n",
    "2. 따라서 Assign할 시 하나하나 Assign을 하여야 추가 할 수 있다.\n"
   ]
  },
  {
   "cell_type": "code",
   "execution_count": 30,
   "metadata": {},
   "outputs": [
    {
     "name": "stdout",
     "output_type": "stream",
     "text": [
      "           hobby  height  weight  age  over 30  pets  body_mass_index  \\\n",
      "alice     Biking     172      68   33     True   NaN        22.985398   \n",
      "bob      Dancing     181      83   34     True   0.0        25.335002   \n",
      "charles      NaN     185     112   26    False   5.0        32.724617   \n",
      "\n",
      "         has_pets  \n",
      "alice       False  \n",
      "bob         False  \n",
      "charles      True  \n",
      "\n",
      "Add columns with the same time\n",
      "Key error: 'body_mass_index'\n",
      "\n",
      "Solution\n",
      "           hobby  height  weight  age  over 30  pets  body_mass_index  \\\n",
      "alice     Biking     172      68   33     True   NaN        22.985398   \n",
      "bob      Dancing     181      83   34     True   0.0        25.335002   \n",
      "charles      NaN     185     112   26    False   5.0        32.724617   \n",
      "\n",
      "         overweight  \n",
      "alice         False  \n",
      "bob            True  \n",
      "charles        True  \n"
     ]
    }
   ],
   "source": [
    "assign_people = people.assign(\n",
    "    body_mass_index = people[\"weight\"] / (people[\"height\"] / 100) ** 2,\n",
    "    has_pets = people[\"pets\"] > 0\n",
    ")\n",
    "\n",
    "print(assign_people)\n",
    "print()\n",
    "\n",
    "print('Add columns with the same time')\n",
    "try:\n",
    "    people.assign(\n",
    "        body_mass_index = people[\"weight\"] / (people[\"height\"] / 100) ** 2,\n",
    "        overweight = people[\"body_mass_index\"] > 25 # Original Data not modified -> KeyError Occur\n",
    "    )\n",
    "except KeyError as e:\n",
    "    print(\"Key error:\", e)\n",
    "    print()\n",
    "    \n",
    "print('Solution')\n",
    "d6 = people.assign(body_mass_index = people[\"weight\"] / (people[\"height\"] / 100) ** 2)\n",
    "print(d6.assign(overweight = d6[\"body_mass_index\"] > 25))"
   ]
  },
  {
   "cell_type": "markdown",
   "metadata": {},
   "source": [
    "**Evaluating an expression**  \n",
    "Pandas의 좋은 점은 Row의 각각에 대하여 Conditional Operation에 대하여 Boolean으로서 결과를 뽑아낼 수 있다는 것 이다.  \n",
    "이러한 Evaluate는 <code>evaluate</code>로서 나타낼 수 있고 몇몇 Arrtibute를 활용하여 조건을 나타낼 수 있다.\n",
    "1. <code>inplace=True</code>: .eval()시 Original DataFrame의 Column에 결과 값을 추가한다.\n",
    "2. <code>@</code>: Assign된 local or global 변수를 사용할 수 있다."
   ]
  },
  {
   "cell_type": "code",
   "execution_count": 31,
   "metadata": {},
   "outputs": [
    {
     "name": "stdout",
     "output_type": "stream",
     "text": [
      "Evaluating by use inplace attribution\n",
      "           hobby  height  weight  age  over 30  pets  body_mass_index\n",
      "alice     Biking     172      68   33     True   NaN        22.985398\n",
      "bob      Dancing     181      83   34     True   0.0        25.335002\n",
      "charles      NaN     185     112   26    False   5.0        32.724617\n",
      "\n",
      "Evaluating by use @ attributes\n",
      "           hobby  height  weight  age  over 30  pets  body_mass_index  \\\n",
      "alice     Biking     172      68   33     True   NaN        22.985398   \n",
      "bob      Dancing     181      83   34     True   0.0        25.335002   \n",
      "charles      NaN     185     112   26    False   5.0        32.724617   \n",
      "\n",
      "         overweight  \n",
      "alice         False  \n",
      "bob           False  \n",
      "charles        True  \n"
     ]
    }
   ],
   "source": [
    "print('Evaluating by use inplace attribution')\n",
    "people.eval(\"body_mass_index = weight / (height/100) ** 2\", inplace=True)\n",
    "print(people)\n",
    "print()\n",
    "\n",
    "print('Evaluating by use @ attributes')\n",
    "overweight_threshold = 30\n",
    "people.eval(\"overweight = body_mass_index > @overweight_threshold\", inplace=True)\n",
    "print(people)"
   ]
  },
  {
   "cell_type": "markdown",
   "metadata": {},
   "source": [
    "**Querting a DataFrame**  \n",
    "DataFrame의 장점 중 하나라고 생각한다. DB와 같이 <code>query</code>를 통하여 특정 조건을 만족하는 Row를 검색할 수 있다."
   ]
  },
  {
   "cell_type": "code",
   "execution_count": 32,
   "metadata": {},
   "outputs": [
    {
     "name": "stdout",
     "output_type": "stream",
     "text": [
      "       hobby  height  weight  age  over 30  pets  body_mass_index  overweight\n",
      "bob  Dancing     181      83   34     True   0.0        25.335002       False\n"
     ]
    }
   ],
   "source": [
    "print(people.query(\"age > 30 and pets == 0\"))"
   ]
  },
  {
   "cell_type": "markdown",
   "metadata": {},
   "source": [
    "**Sorting a DataFrame**  \n",
    "<code>sort_index</code>를 사용하여 DataFrame의 Sorting가능하다.  \n",
    "Sorting의 기준은 Argument로 주어지는 axis에 따라 달라진다.(0=Sorting Rows, 1=Sorting Columns)  \n",
    "기본적으로는 Row를 기준으로 Sorting을 실시하고 Specific한 Rows를 <code>by</code> Attritubes를 통하여 정의할 수 있다.  \n",
    "또한 위와 마찬가지로 Original DataFrame에는 영향을 미치지 않으므로 <code>inplace</code> attributes를 통하여 영향을 줄지 안줄지 적용할 수 있다."
   ]
  },
  {
   "cell_type": "code",
   "execution_count": 33,
   "metadata": {},
   "outputs": [
    {
     "name": "stdout",
     "output_type": "stream",
     "text": [
      "Sorting Rows\n",
      "           hobby  height  weight  age  over 30  pets  body_mass_index  \\\n",
      "alice     Biking     172      68   33     True   NaN        22.985398   \n",
      "bob      Dancing     181      83   34     True   0.0        25.335002   \n",
      "charles      NaN     185     112   26    False   5.0        32.724617   \n",
      "\n",
      "         overweight  \n",
      "alice         False  \n",
      "bob           False  \n",
      "charles        True  \n",
      "\n",
      "Sorting Columns\n",
      "         age  body_mass_index  height    hobby  over 30  overweight  pets  \\\n",
      "alice     33        22.985398     172   Biking     True       False   NaN   \n",
      "bob       34        25.335002     181  Dancing     True       False   0.0   \n",
      "charles   26        32.724617     185      NaN    False        True   5.0   \n",
      "\n",
      "         weight  \n",
      "alice        68  \n",
      "bob          83  \n",
      "charles     112  \n",
      "\n",
      "Sorting Rows via Specific Columns & Apply to Original Data Frame\n",
      "           hobby  height  weight  age  over 30  pets  body_mass_index  \\\n",
      "charles      NaN     185     112   26    False   5.0        32.724617   \n",
      "alice     Biking     172      68   33     True   NaN        22.985398   \n",
      "bob      Dancing     181      83   34     True   0.0        25.335002   \n",
      "\n",
      "         overweight  \n",
      "charles        True  \n",
      "alice         False  \n",
      "bob           False  \n"
     ]
    }
   ],
   "source": [
    "print('Sorting Rows')\n",
    "print(people.sort_index(axis=0))\n",
    "print()\n",
    "\n",
    "print('Sorting Columns')\n",
    "print(people.sort_index(axis=1))\n",
    "print()\n",
    "\n",
    "print('Sorting Rows via Specific Columns & Apply to Original Data Frame')\n",
    "people.sort_values(by=\"age\", inplace=True)\n",
    "print(people)"
   ]
  },
  {
   "cell_type": "markdown",
   "metadata": {},
   "source": [
    "**Plotting a DataFrame**  \n",
    "Series와 같이 쉽게 <code>.plot()</code>을 활용하여 Visualization이 가능하다.(Visualization은 Appendix.3, 4에서 자세히 다루도록 한다.)"
   ]
  },
  {
   "cell_type": "code",
   "execution_count": 34,
   "metadata": {},
   "outputs": [
    {
     "data": {
      "image/png": "[encoded data removed]",
      "text/plain": [
       "<Figure size 432x288 with 1 Axes>"
      ]
     },
     "metadata": {
      "needs_background": "light"
     },
     "output_type": "display_data"
    }
   ],
   "source": [
    "# Visualization by Line Plot\n",
    "people.plot(kind='line',x='body_mass_index',y=['height','weight'])\n",
    "plt.show()"
   ]
  },
  {
   "cell_type": "code",
   "execution_count": 35,
   "metadata": {},
   "outputs": [
    {
     "data": {
      "image/png": "[encoded data removed]",
      "text/plain": [
       "<Figure size 432x288 with 1 Axes>"
      ]
     },
     "metadata": {
      "needs_background": "light"
     },
     "output_type": "display_data"
    }
   ],
   "source": [
    "# Visualization by Scatter plot\n",
    "people.plot(kind = \"scatter\", x = \"height\", y = \"weight\", s=[40, 120, 200])\n",
    "plt.show()"
   ]
  },
  {
   "cell_type": "markdown",
   "metadata": {},
   "source": [
    "**Operations on DataFrame**  \n",
    "DataFrame은 Numpy와 비슷한 몇몇 Operation이 존재한다."
   ]
  },
  {
   "cell_type": "code",
   "execution_count": 36,
   "metadata": {},
   "outputs": [
    {
     "name": "stdout",
     "output_type": "stream",
     "text": [
      "         sep  oct  nov\n",
      "alice      8    8    9\n",
      "bob       10    9    9\n",
      "charles    4    8    2\n",
      "darwin     9   10   10\n"
     ]
    }
   ],
   "source": [
    "# Make DataFrame\n",
    "grades_array = np.array([[8,8,9],[10,9,9],[4, 8, 2], [9, 10, 10]])\n",
    "grades = pd.DataFrame(grades_array, columns=[\"sep\", \"oct\", \"nov\"], index=[\"alice\",\"bob\",\"charles\",\"darwin\"])\n",
    "print(grades)"
   ]
  },
  {
   "cell_type": "markdown",
   "metadata": {},
   "source": [
    "- 각각의 Elements에 Operation적용 가능\n",
    "- Broadcasting가능\n",
    "- Arthmetic, Conditional Operation 가능\n",
    "- Aggregation Operation(mean, max, sum....) 가능\n",
    "- <code>all</code>또한 Aggregation Operation이다. 각각의 Row 또는 Column에 대하여 모든 Column 또는 Row(axis로 설정)의 조건을 검사한다. <-> <code>any</code>\n"
   ]
  },
  {
   "cell_type": "code",
   "execution_count": 37,
   "metadata": {},
   "outputs": [
    {
     "name": "stdout",
     "output_type": "stream",
     "text": [
      "Apply Operation to each element\n",
      "              sep       oct       nov\n",
      "alice    2.828427  2.828427  3.000000\n",
      "bob      3.162278  3.000000  3.000000\n",
      "charles  2.000000  2.828427  1.414214\n",
      "darwin   3.000000  3.162278  3.162278\n",
      "\n",
      "Broadcasting\n",
      "         sep  oct  nov\n",
      "alice      9    9   10\n",
      "bob       11   10   10\n",
      "charles    5    9    3\n",
      "darwin    10   11   11\n",
      "\n",
      "Conditional Operation\n",
      "           sep   oct    nov\n",
      "alice     True  True   True\n",
      "bob       True  True   True\n",
      "charles  False  True  False\n",
      "darwin    True  True   True\n",
      "\n",
      "Aggregation Operation\n",
      "sep    7.75\n",
      "oct    8.75\n",
      "nov    7.50\n",
      "dtype: float64\n",
      "\n",
      "All Operation of Aggregation Operation(axis=0)\n",
      "sep    False\n",
      "oct     True\n",
      "nov    False\n",
      "dtype: bool\n",
      "\n",
      "All Operation of Aggregation Operation(axis=1)\n",
      "alice       True\n",
      "bob         True\n",
      "charles    False\n",
      "darwin      True\n",
      "dtype: bool\n",
      "\n"
     ]
    }
   ],
   "source": [
    "print('Apply Operation to each element')\n",
    "print(np.sqrt(grades))\n",
    "print()\n",
    "\n",
    "print('Broadcasting')\n",
    "print(grades+1)\n",
    "print()\n",
    "\n",
    "print('Conditional Operation')\n",
    "print(grades>=5)\n",
    "print()\n",
    "\n",
    "print('Aggregation Operation')\n",
    "print(grades.mean())\n",
    "print()\n",
    "\n",
    "print('All Operation of Aggregation Operation(axis=0)')\n",
    "print((grades>5).all())\n",
    "print()\n",
    "\n",
    "print('All Operation of Aggregation Operation(axis=1)')\n",
    "print((grades>5).all(axis=1))\n",
    "print()"
   ]
  },
  {
   "cell_type": "markdown",
   "metadata": {},
   "source": [
    "**Automatic alignment**  \n",
    "Series와 마찬가지로 DataFrame또한 Operation을 진행할때 Index Label과 Column을 맞춰서 Operation을 진행하게 된다.  \n",
    "Operation 중 Argument가 하나라도 NaN이면 어떤 Operation이던간에 결과는 NaN으로 처리되고 또한, Series와 마찬가지로 일치하지 않는 Index Label이나 Column이 존재할 경우 NaN으로서 처리 된다."
   ]
  },
  {
   "cell_type": "code",
   "execution_count": 38,
   "metadata": {},
   "outputs": [
    {
     "name": "stdout",
     "output_type": "stream",
     "text": [
      "Grades\n",
      "         nov  oct  sep\n",
      "alice      9    8    8\n",
      "bob        9    9   10\n",
      "charles    2    8    4\n",
      "darwin    10   10    9\n",
      "\n",
      "Bonus_points\n",
      "         dec  nov  oct\n",
      "bob      2.0  NaN  0.0\n",
      "charles  0.0  3.0  3.0\n",
      "colin    0.0  1.0  NaN\n",
      "darwin   0.0  1.0  0.0\n",
      "\n",
      "After Artimetic Operation(+)\n",
      "         dec   nov   oct  sep\n",
      "alice    NaN   NaN   NaN  NaN\n",
      "bob      NaN   NaN   9.0  NaN\n",
      "charles  NaN   5.0  11.0  NaN\n",
      "colin    NaN   NaN   NaN  NaN\n",
      "darwin   NaN  11.0  10.0  NaN\n"
     ]
    }
   ],
   "source": [
    "print('Grades')\n",
    "print(grades.sort_index(axis=0).sort_index(axis=1))\n",
    "print()\n",
    "\n",
    "print('Bonus_points')\n",
    "bonus_array = np.array([[0,np.nan,2],[np.nan,1,0],[0, 1, 0], [3, 3, 0]])\n",
    "bonus_points = pd.DataFrame(bonus_array, columns=[\"oct\", \"nov\", \"dec\"], index=[\"bob\",\"colin\", \"darwin\", \"charles\"])\n",
    "print(bonus_points.sort_index(axis=0).sort_index(axis=1))\n",
    "print()\n",
    "\n",
    "print('After Artimetic Operation(+)')\n",
    "print(grades+bonus_points)"
   ]
  },
  {
   "cell_type": "markdown",
   "metadata": {},
   "source": [
    "**Handling missing data**  \n",
    "missing data란 Upsampling or Operation실시하는 경우 NaN으로서 표시되는 Data를 처리하는 방법이다.  \n",
    "가장 기본적인 방법으로서는 <code>.fillna()</code>를 통하여 NaN값을 특정값으로서 치환하거나, 사용자가 지정하는 특정값을 대입하는 방법이 존재한다."
   ]
  },
  {
   "cell_type": "code",
   "execution_count": 39,
   "metadata": {},
   "outputs": [
    {
     "name": "stdout",
     "output_type": "stream",
     "text": [
      "Use fillna Function\n",
      "         dec   nov   oct  sep\n",
      "alice    0.0   0.0   0.0  0.0\n",
      "bob      0.0   0.0   9.0  0.0\n",
      "charles  0.0   5.0  11.0  0.0\n",
      "colin    0.0   0.0   0.0  0.0\n",
      "darwin   0.0  11.0  10.0  0.0\n",
      "\n",
      "Assign a specific value\n",
      "         sep   oct   nov\n",
      "alice      8   8.0   9.0\n",
      "bob       10   9.0   9.0\n",
      "charles    4  11.0   5.0\n",
      "darwin     9  10.0  11.0\n"
     ]
    }
   ],
   "source": [
    "print('Use fillna Function')\n",
    "print((grades + bonus_points).fillna(0))\n",
    "print()\n",
    "\n",
    "print('Assign a specific value')\n",
    "fixed_bonus_points = bonus_points.fillna(0)\n",
    "fixed_bonus_points.insert(0, \"sep\", 0)\n",
    "fixed_bonus_points.loc[\"alice\"] = 0\n",
    "fixed_bonus_points = fixed_bonus_points.drop('dec',1)\n",
    "fixed_bonus_points = fixed_bonus_points.drop('colin',0)\n",
    "print(grades+fixed_bonus_points)"
   ]
  },
  {
   "cell_type": "markdown",
   "metadata": {},
   "source": [
    "위와 같은 방식은 특정 값을 대입해야 하므로 분석하는데 많은 어려움을 겪을 수 있다.  \n",
    "따라서 Dataframe에서는 <code>interpolate</code>를 사용하게 되면 NaN기준으로 양옆의 값들의 평균으로 대체한다."
   ]
  },
  {
   "cell_type": "code",
   "execution_count": 40,
   "metadata": {},
   "outputs": [
    {
     "name": "stdout",
     "output_type": "stream",
     "text": [
      "         oct  nov  dec\n",
      "bob      0.0  1.0  2.0\n",
      "colin    NaN  1.0  0.0\n",
      "darwin   0.0  1.0  0.0\n",
      "charles  3.0  3.0  0.0\n"
     ]
    }
   ],
   "source": [
    "print(bonus_points.interpolate(axis=1))"
   ]
  },
  {
   "cell_type": "markdown",
   "metadata": {},
   "source": [
    "이와 반대로 아직 값이 정해지지 않았으나 ,Column이나 Row를 추가해야 하는 경우 np.nan으로서 NaN값을 대입할 수 있다."
   ]
  },
  {
   "cell_type": "code",
   "execution_count": 41,
   "metadata": {},
   "outputs": [
    {
     "name": "stdout",
     "output_type": "stream",
     "text": [
      "         sep  oct  nov  dec\n",
      "bob      NaN  0.0  NaN  2.0\n",
      "colin    NaN  NaN  1.0  0.0\n",
      "darwin   NaN  0.0  1.0  0.0\n",
      "charles  NaN  3.0  3.0  0.0\n"
     ]
    }
   ],
   "source": [
    "nan_points = bonus_points.copy()\n",
    "nan_points.insert(0,'sep',np.nan)\n",
    "print(nan_points)"
   ]
  },
  {
   "cell_type": "markdown",
   "metadata": {},
   "source": [
    "계산 결과에서 NaN값이 나타나는 것이 싫으면 <code>.dropna()</code>를 활용하여 NaN값을 전부 없앨 수 있다.(axis로 기준을 정할 수 있고, how를 통하여 모든 값이 NaN이거나, 하나라도 NaN값을 포함하는 row나 Column을 없앨 수 있다.)"
   ]
  },
  {
   "cell_type": "code",
   "execution_count": 42,
   "metadata": {},
   "outputs": [
    {
     "name": "stdout",
     "output_type": "stream",
     "text": [
      "         oct  nov  dec\n",
      "bob      0.0  NaN  2.0\n",
      "colin    NaN  1.0  0.0\n",
      "darwin   0.0  1.0  0.0\n",
      "charles  3.0  3.0  0.0\n"
     ]
    }
   ],
   "source": [
    "drop_points = nan_points.dropna(axis=1,how='all')\n",
    "print(drop_points)"
   ]
  },
  {
   "cell_type": "markdown",
   "metadata": {},
   "source": [
    "**Aggregating with groupby**  \n",
    "<a href=\"https://wjddyd66.github.io/db/DML/#select\">SQL</a>문과 같이 group by를 하여서 원하는 Data를 모아서 확인할 수 있다."
   ]
  },
  {
   "cell_type": "code",
   "execution_count": 43,
   "metadata": {},
   "outputs": [
    {
     "name": "stdout",
     "output_type": "stream",
     "text": [
      "         oct  nov  dec    hobby\n",
      "bob      0.0  NaN  2.0   Biking\n",
      "colin    NaN  1.0  0.0  Dancing\n",
      "darwin   0.0  1.0  0.0      NaN\n",
      "charles  3.0  3.0  0.0   Biking\n",
      "\n",
      "Using Group by\n",
      "<pandas.core.groupby.generic.DataFrameGroupBy object at 0x000001407ECF3550>\n",
      "\n",
      "Apply Function\n",
      "         oct  nov  dec\n",
      "hobby                 \n",
      "Biking   1.5  3.0  1.0\n",
      "Dancing  NaN  1.0  0.0\n"
     ]
    }
   ],
   "source": [
    "# Insert new Columns\n",
    "bonus_points['hobby'] = ['Biking','Dancing',np.nan,'Biking']\n",
    "print(bonus_points)\n",
    "print()\n",
    "\n",
    "print('Using Group by')\n",
    "grouped_grades = bonus_points.groupby('hobby')\n",
    "print(grouped_grades)\n",
    "print()\n",
    "\n",
    "print('Apply Function')\n",
    "print(grouped_grades.mean())"
   ]
  },
  {
   "cell_type": "markdown",
   "metadata": {},
   "source": [
    "**Pivot tables**  \n",
    "DataFrame은 <a href=\"https://en.wikipedia.org/wiki/Pivot_table\">PivotTable</a>을 지원한다.  \n",
    "이러한 PivotTable은 빠르게 데이터의 속성을 알 수 있으며, <code>aggfunc</code>를 통하여 어떠한 속성에 Focus를 맞추어서 Pivot Table을 사용할 지 정할 수 있다."
   ]
  },
  {
   "cell_type": "code",
   "execution_count": 44,
   "metadata": {},
   "outputs": [
    {
     "name": "stdout",
     "output_type": "stream",
     "text": [
      "         oct  nov  dec\n",
      "bob      0.0  NaN  2.0\n",
      "colin    NaN  1.0  0.0\n",
      "darwin   0.0  1.0  0.0\n",
      "charles  3.0  3.0  0.0\n",
      "\n",
      "Pivot Table\n",
      "     dec  nov\n",
      "oct          \n",
      "0.0  2.0  1.0\n",
      "3.0  0.0  3.0\n"
     ]
    }
   ],
   "source": [
    "del bonus_points['hobby']\n",
    "print(bonus_points)\n",
    "print()\n",
    "\n",
    "print('Pivot Table')\n",
    "print(pd.pivot_table(bonus_points,index='oct',aggfunc=np.max))"
   ]
  },
  {
   "cell_type": "markdown",
   "metadata": {},
   "source": [
    "**Overview functions**  \n",
    "DataFrame의 크기가 매우 큰 경우 몇몇 특성을 빠르게 알아보기 위하여 사용하는 Function이 존재한다.  \n",
    "먼저 알아보기 편하게 임의의 큰 DataFrame을 정의하자."
   ]
  },
  {
   "cell_type": "code",
   "execution_count": 45,
   "metadata": {},
   "outputs": [
    {
     "name": "stdout",
     "output_type": "stream",
     "text": [
      "         A     B     C some_text      D      E      F     G      H      I  \\\n",
      "0      NaN  11.0  44.0    Blabla   99.0    NaN   88.0  22.0  165.0  143.0   \n",
      "1     11.0  22.0  55.0    Blabla  110.0    NaN   99.0  33.0    NaN  154.0   \n",
      "2     22.0  33.0  66.0    Blabla  121.0   11.0  110.0  44.0    NaN  165.0   \n",
      "3     33.0  44.0  77.0    Blabla  132.0   22.0  121.0  55.0   11.0    NaN   \n",
      "4     44.0  55.0  88.0    Blabla  143.0   33.0  132.0  66.0   22.0    NaN   \n",
      "...    ...   ...   ...       ...    ...    ...    ...   ...    ...    ...   \n",
      "9995   NaN   NaN  33.0    Blabla   88.0  165.0   77.0  11.0  154.0  132.0   \n",
      "9996   NaN  11.0  44.0    Blabla   99.0    NaN   88.0  22.0  165.0  143.0   \n",
      "9997  11.0  22.0  55.0    Blabla  110.0    NaN   99.0  33.0    NaN  154.0   \n",
      "9998  22.0  33.0  66.0    Blabla  121.0   11.0  110.0  44.0    NaN  165.0   \n",
      "9999  33.0  44.0  77.0    Blabla  132.0   22.0  121.0  55.0   11.0    NaN   \n",
      "\n",
      "      ...     Q     R     S     T      U      V      W     X      Y      Z  \n",
      "0     ...  11.0   NaN  11.0  44.0   99.0    NaN   88.0  22.0  165.0  143.0  \n",
      "1     ...  22.0  11.0  22.0  55.0  110.0    NaN   99.0  33.0    NaN  154.0  \n",
      "2     ...  33.0  22.0  33.0  66.0  121.0   11.0  110.0  44.0    NaN  165.0  \n",
      "3     ...  44.0  33.0  44.0  77.0  132.0   22.0  121.0  55.0   11.0    NaN  \n",
      "4     ...  55.0  44.0  55.0  88.0  143.0   33.0  132.0  66.0   22.0    NaN  \n",
      "...   ...   ...   ...   ...   ...    ...    ...    ...   ...    ...    ...  \n",
      "9995  ...   NaN   NaN   NaN  33.0   88.0  165.0   77.0  11.0  154.0  132.0  \n",
      "9996  ...  11.0   NaN  11.0  44.0   99.0    NaN   88.0  22.0  165.0  143.0  \n",
      "9997  ...  22.0  11.0  22.0  55.0  110.0    NaN   99.0  33.0    NaN  154.0  \n",
      "9998  ...  33.0  22.0  33.0  66.0  121.0   11.0  110.0  44.0    NaN  165.0  \n",
      "9999  ...  44.0  33.0  44.0  77.0  132.0   22.0  121.0  55.0   11.0    NaN  \n",
      "\n",
      "[10000 rows x 27 columns]\n"
     ]
    }
   ],
   "source": [
    "much_data = np.fromfunction(lambda x,y: (x+y*y)%17*11, (10000, 26))\n",
    "large_df = pd.DataFrame(much_data, columns=list(\"ABCDEFGHIJKLMNOPQRSTUVWXYZ\"))\n",
    "large_df[large_df % 16 == 0] = np.nan\n",
    "large_df.insert(3,\"some_text\", \"Blabla\")\n",
    "print(large_df)"
   ]
  },
  {
   "cell_type": "markdown",
   "metadata": {},
   "source": [
    "- <code>head()</code>: 상위 5개의 정보를 살필 수 있다. (Argument로서 몇개의 Row를 볼지는 정할 수 있다.)\n",
    "- <code>tail()</code>: 하위 5개의 정보를 살필 수 있다. (Argument로서 몇개의 Row를 볼지는 정할 수 있다.)\n",
    "- <code>info()</code>: Column의 내용을 요약하여 살필 수 있다.\n",
    "- **<code>describe()</code>**: 주요사용하는 값들에 대하여 살펴볼 수 있다.\n"
   ]
  },
  {
   "cell_type": "code",
   "execution_count": 46,
   "metadata": {},
   "outputs": [
    {
     "name": "stdout",
     "output_type": "stream",
     "text": [
      "Head\n",
      "      A     B     C some_text      D     E      F     G      H      I  ...  \\\n",
      "0   NaN  11.0  44.0    Blabla   99.0   NaN   88.0  22.0  165.0  143.0  ...   \n",
      "1  11.0  22.0  55.0    Blabla  110.0   NaN   99.0  33.0    NaN  154.0  ...   \n",
      "2  22.0  33.0  66.0    Blabla  121.0  11.0  110.0  44.0    NaN  165.0  ...   \n",
      "\n",
      "      Q     R     S     T      U     V      W     X      Y      Z  \n",
      "0  11.0   NaN  11.0  44.0   99.0   NaN   88.0  22.0  165.0  143.0  \n",
      "1  22.0  11.0  22.0  55.0  110.0   NaN   99.0  33.0    NaN  154.0  \n",
      "2  33.0  22.0  33.0  66.0  121.0  11.0  110.0  44.0    NaN  165.0  \n",
      "\n",
      "[3 rows x 27 columns]\n"
     ]
    }
   ],
   "source": [
    "print('Head')\n",
    "print(large_df.head(n=3))"
   ]
  },
  {
   "cell_type": "code",
   "execution_count": 47,
   "metadata": {},
   "outputs": [
    {
     "name": "stdout",
     "output_type": "stream",
     "text": [
      "Tail\n",
      "         A     B     C some_text      D     E      F     G     H      I  ...  \\\n",
      "9997  11.0  22.0  55.0    Blabla  110.0   NaN   99.0  33.0   NaN  154.0  ...   \n",
      "9998  22.0  33.0  66.0    Blabla  121.0  11.0  110.0  44.0   NaN  165.0  ...   \n",
      "9999  33.0  44.0  77.0    Blabla  132.0  22.0  121.0  55.0  11.0    NaN  ...   \n",
      "\n",
      "         Q     R     S     T      U     V      W     X     Y      Z  \n",
      "9997  22.0  11.0  22.0  55.0  110.0   NaN   99.0  33.0   NaN  154.0  \n",
      "9998  33.0  22.0  33.0  66.0  121.0  11.0  110.0  44.0   NaN  165.0  \n",
      "9999  44.0  33.0  44.0  77.0  132.0  22.0  121.0  55.0  11.0    NaN  \n",
      "\n",
      "[3 rows x 27 columns]\n"
     ]
    }
   ],
   "source": [
    "print('Tail')\n",
    "print(large_df.tail(n=3))"
   ]
  },
  {
   "cell_type": "code",
   "execution_count": 48,
   "metadata": {},
   "outputs": [
    {
     "name": "stdout",
     "output_type": "stream",
     "text": [
      "Info\n",
      "<class 'pandas.core.frame.DataFrame'>\n",
      "RangeIndex: 10000 entries, 0 to 9999\n",
      "Data columns (total 27 columns):\n",
      "A            8823 non-null float64\n",
      "B            8824 non-null float64\n",
      "C            8824 non-null float64\n",
      "some_text    10000 non-null object\n",
      "D            8824 non-null float64\n",
      "E            8822 non-null float64\n",
      "F            8824 non-null float64\n",
      "G            8824 non-null float64\n",
      "H            8822 non-null float64\n",
      "I            8823 non-null float64\n",
      "J            8823 non-null float64\n",
      "K            8822 non-null float64\n",
      "L            8824 non-null float64\n",
      "M            8824 non-null float64\n",
      "N            8822 non-null float64\n",
      "O            8824 non-null float64\n",
      "P            8824 non-null float64\n",
      "Q            8824 non-null float64\n",
      "R            8823 non-null float64\n",
      "S            8824 non-null float64\n",
      "T            8824 non-null float64\n",
      "U            8824 non-null float64\n",
      "V            8822 non-null float64\n",
      "W            8824 non-null float64\n",
      "X            8824 non-null float64\n",
      "Y            8822 non-null float64\n",
      "Z            8823 non-null float64\n",
      "dtypes: float64(26), object(1)\n",
      "memory usage: 2.1+ MB\n",
      "None\n"
     ]
    }
   ],
   "source": [
    "print('Info')\n",
    "print(large_df.info())"
   ]
  },
  {
   "cell_type": "code",
   "execution_count": 49,
   "metadata": {},
   "outputs": [
    {
     "name": "stdout",
     "output_type": "stream",
     "text": [
      "Describe\n",
      "                 A            B            C            D            E  \\\n",
      "count  8823.000000  8824.000000  8824.000000  8824.000000  8822.000000   \n",
      "mean     87.977559    87.972575    87.987534    88.012466    87.983791   \n",
      "std      47.535911    47.535523    47.521679    47.521679    47.535001   \n",
      "min      11.000000    11.000000    11.000000    11.000000    11.000000   \n",
      "25%      44.000000    44.000000    44.000000    44.000000    44.000000   \n",
      "50%      88.000000    88.000000    88.000000    88.000000    88.000000   \n",
      "75%     132.000000   132.000000   132.000000   132.000000   132.000000   \n",
      "max     165.000000   165.000000   165.000000   165.000000   165.000000   \n",
      "\n",
      "                 F            G            H            I            J  ...  \\\n",
      "count  8824.000000  8824.000000  8822.000000  8823.000000  8823.000000  ...   \n",
      "mean     88.007480    87.977561    88.000000    88.022441    88.022441  ...   \n",
      "std      47.519371    47.529755    47.536879    47.535911    47.535911  ...   \n",
      "min      11.000000    11.000000    11.000000    11.000000    11.000000  ...   \n",
      "25%      44.000000    44.000000    44.000000    44.000000    44.000000  ...   \n",
      "50%      88.000000    88.000000    88.000000    88.000000    88.000000  ...   \n",
      "75%     132.000000   132.000000   132.000000   132.000000   132.000000  ...   \n",
      "max     165.000000   165.000000   165.000000   165.000000   165.000000  ...   \n",
      "\n",
      "                 Q            R            S            T            U  \\\n",
      "count  8824.000000  8823.000000  8824.000000  8824.000000  8824.000000   \n",
      "mean     87.972575    87.977559    87.972575    87.987534    88.012466   \n",
      "std      47.535523    47.535911    47.535523    47.521679    47.521679   \n",
      "min      11.000000    11.000000    11.000000    11.000000    11.000000   \n",
      "25%      44.000000    44.000000    44.000000    44.000000    44.000000   \n",
      "50%      88.000000    88.000000    88.000000    88.000000    88.000000   \n",
      "75%     132.000000   132.000000   132.000000   132.000000   132.000000   \n",
      "max     165.000000   165.000000   165.000000   165.000000   165.000000   \n",
      "\n",
      "                 V            W            X            Y            Z  \n",
      "count  8822.000000  8824.000000  8824.000000  8822.000000  8823.000000  \n",
      "mean     87.983791    88.007480    87.977561    88.000000    88.022441  \n",
      "std      47.535001    47.519371    47.529755    47.536879    47.535911  \n",
      "min      11.000000    11.000000    11.000000    11.000000    11.000000  \n",
      "25%      44.000000    44.000000    44.000000    44.000000    44.000000  \n",
      "50%      88.000000    88.000000    88.000000    88.000000    88.000000  \n",
      "75%     132.000000   132.000000   132.000000   132.000000   132.000000  \n",
      "max     165.000000   165.000000   165.000000   165.000000   165.000000  \n",
      "\n",
      "[8 rows x 26 columns]\n"
     ]
    }
   ],
   "source": [
    "print('Describe')\n",
    "print(large_df.describe())"
   ]
  },
  {
   "cell_type": "markdown",
   "metadata": {},
   "source": [
    "### Saving & Loading\n",
    "\n",
    "**Saving**  \n",
    "Pandas의 DataFrame은 다양한 backends라 존재한다.  \n",
    "따라서 CSV, Excel, JSON, HTML and HDF5 or a SQL database로서 FileFormat을 저장할 수 있다."
   ]
  },
  {
   "cell_type": "code",
   "execution_count": 50,
   "metadata": {},
   "outputs": [
    {
     "name": "stdout",
     "output_type": "stream",
     "text": [
      "         hobby  weight  birthyear  children\n",
      "alice   Biking    68.5       1985       NaN\n",
      "bob    Dancing    83.1       1984       3.0\n"
     ]
    }
   ],
   "source": [
    "my_df = pd.DataFrame(\n",
    "    [[\"Biking\", 68.5, 1985, np.nan], [\"Dancing\", 83.1, 1984, 3]], \n",
    "    columns=[\"hobby\",\"weight\",\"birthyear\",\"children\"],\n",
    "    index=[\"alice\", \"bob\"]\n",
    ")\n",
    "print(my_df)"
   ]
  },
  {
   "cell_type": "markdown",
   "metadata": {},
   "source": [
    "위에서 선언한 DataFrame을 각각의 다른 FileFormat으로 저장하고 불러와서 확인한다."
   ]
  },
  {
   "cell_type": "code",
   "execution_count": 51,
   "metadata": {},
   "outputs": [
    {
     "name": "stdout",
     "output_type": "stream",
     "text": [
      "# my_df.csv\n",
      ",hobby,weight,birthyear,children\n",
      "alice,Biking,68.5,1985,\n",
      "bob,Dancing,83.1,1984,3.0\n",
      "\n",
      "\n",
      "# my_df.html\n",
      "<table border=\"1\" class=\"dataframe\">\n",
      "  <thead>\n",
      "    <tr style=\"text-align: right;\">\n",
      "      <th></th>\n",
      "      <th>hobby</th>\n",
      "      <th>weight</th>\n",
      "      <th>birthyear</th>\n",
      "      <th>children</th>\n",
      "    </tr>\n",
      "  </thead>\n",
      "  <tbody>\n",
      "    <tr>\n",
      "      <th>alice</th>\n",
      "      <td>Biking</td>\n",
      "      <td>68.5</td>\n",
      "      <td>1985</td>\n",
      "      <td>NaN</td>\n",
      "    </tr>\n",
      "    <tr>\n",
      "      <th>bob</th>\n",
      "      <td>Dancing</td>\n",
      "      <td>83.1</td>\n",
      "      <td>1984</td>\n",
      "      <td>3.0</td>\n",
      "    </tr>\n",
      "  </tbody>\n",
      "</table>\n",
      "\n",
      "# my_df.json\n",
      "{\"hobby\":{\"alice\":\"Biking\",\"bob\":\"Dancing\"},\"weight\":{\"alice\":68.5,\"bob\":83.1},\"birthyear\":{\"alice\":1985,\"bob\":1984},\"children\":{\"alice\":null,\"bob\":3.0}}\n",
      "\n"
     ]
    }
   ],
   "source": [
    "my_df.to_csv(\"my_df.csv\")\n",
    "my_df.to_html(\"my_df.html\")\n",
    "my_df.to_json(\"my_df.json\")\n",
    "\n",
    "for filename in (\"my_df.csv\", \"my_df.html\", \"my_df.json\"):\n",
    "    print(\"#\", filename)\n",
    "    with open(filename, \"rt\") as f:\n",
    "        print(f.read())\n",
    "        print()"
   ]
  },
  {
   "cell_type": "markdown",
   "metadata": {},
   "source": [
    "주의하여야 하는 점은 몇몇 FileFormat은 추가적인 library를 활용해야지 사용할 수 있다는 것 이다."
   ]
  },
  {
   "cell_type": "code",
   "execution_count": 52,
   "metadata": {},
   "outputs": [
    {
     "name": "stdout",
     "output_type": "stream",
     "text": [
      "No module named 'openpyxl'\n"
     ]
    }
   ],
   "source": [
    "try:\n",
    "    my_df.to_excel(\"my_df.xlsx\", sheet_name='People')\n",
    "except ImportError as e:\n",
    "    print(e)"
   ]
  },
  {
   "cell_type": "markdown",
   "metadata": {},
   "source": [
    "**Loading**  \n",
    "위에서는 단순히 FIle안에 있는 Text를 가져왔으나 DataFrame형태로서 가져오는 방법은 각각의 FileFormat에 맞춰서 가져오면 된다."
   ]
  },
  {
   "cell_type": "code",
   "execution_count": 53,
   "metadata": {},
   "outputs": [
    {
     "name": "stdout",
     "output_type": "stream",
     "text": [
      "Loading CSV Format DataFrame\n",
      "         hobby  weight  birthyear  children\n",
      "alice   Biking    68.5       1985       NaN\n",
      "bob    Dancing    83.1       1984       3.0\n"
     ]
    }
   ],
   "source": [
    "print('Loading CSV Format DataFrame')\n",
    "my_df_loaded = pd.read_csv(\"my_df.csv\", index_col=0)\n",
    "print(my_df_loaded)"
   ]
  },
  {
   "cell_type": "markdown",
   "metadata": {},
   "source": [
    "단순히 Local뿐만 아니라 URL을 통하여 On-Line상의 자료 또한 가져와서 DataFrame으로 변환할 수 있다.  \n",
    "더 많은 FileFormat과 사용방법은 <a href=\"https://pandas.pydata.org/pandas-docs/stable/user_guide/io.html\">Pandas IO tools</a>를 참조하자."
   ]
  },
  {
   "cell_type": "code",
   "execution_count": 54,
   "metadata": {},
   "outputs": [
    {
     "name": "stdout",
     "output_type": "stream",
     "text": [
      "   no     tv  radio  newspaper  sales\n",
      "0   1  230.1   37.8       69.2   22.1\n",
      "1   2   44.5   39.3       45.1   10.4\n",
      "2   3   17.2   45.9       69.3    9.3\n",
      "3   4  151.5   41.3       58.5   18.5\n",
      "4   5  180.8   10.8       58.4   12.9\n"
     ]
    }
   ],
   "source": [
    "csv_url='https://raw.githubusercontent.com/wjddyd66/R/master/Data/Advertising.csv'\n",
    "url_dataframe = pd.read_csv(csv_url)\n",
    "print(url_dataframe.head())"
   ]
  },
  {
   "cell_type": "markdown",
   "metadata": {},
   "source": [
    "### Combining DataFrame\n",
    "\n",
    "**SQL-like joins**  \n",
    "위에서 DB와 같이 Group by를 통하여 DataFrame을 원하는 대로 묶는 기능을 살펴보았다.  \n",
    "또한 Pandas Dataframe은 SQL에서의 <a href=\"https://wjddyd66.github.io/db/Join/\">Join</a>기능또한 제공하고 있다."
   ]
  },
  {
   "cell_type": "code",
   "execution_count": 55,
   "metadata": {},
   "outputs": [
    {
     "name": "stdout",
     "output_type": "stream",
     "text": [
      "DataFrame A\n",
      "  state            city        lat         lng\n",
      "0    CA   San Francisco  37.781334 -122.416728\n",
      "1    NY        New York  40.705649  -74.008344\n",
      "2    FL           Miami  25.791100  -80.320733\n",
      "3    OH       Cleveland  41.473508  -81.739791\n",
      "4    UT  Salt Lake City  40.755851 -111.896657\n",
      "\n",
      "DataFrame B\n",
      "   population           city       state\n",
      "3      808976  San Francisco  California\n",
      "4     8363710       New York    New-York\n",
      "5      413201          Miami     Florida\n",
      "6     2242193        Houston       Texas\n",
      "\n",
      "SQL Inner Join by using .merge()\n",
      "  state_x           city        lat         lng  population     state_y\n",
      "0      CA  San Francisco  37.781334 -122.416728      808976  California\n",
      "1      NY       New York  40.705649  -74.008344     8363710    New-York\n",
      "2      FL          Miami  25.791100  -80.320733      413201     Florida\n",
      "\n",
      "SQL Outer Join by using .merge(how='outer')\n",
      "  state_x            city        lat         lng  population     state_y\n",
      "0      CA   San Francisco  37.781334 -122.416728    808976.0  California\n",
      "1      NY        New York  40.705649  -74.008344   8363710.0    New-York\n",
      "2      FL           Miami  25.791100  -80.320733    413201.0     Florida\n",
      "3      OH       Cleveland  41.473508  -81.739791         NaN         NaN\n",
      "4      UT  Salt Lake City  40.755851 -111.896657         NaN         NaN\n",
      "5     NaN         Houston        NaN         NaN   2242193.0       Texas\n"
     ]
    }
   ],
   "source": [
    "print('DataFrame A')\n",
    "city_loc = pd.DataFrame(\n",
    "    [\n",
    "        [\"CA\", \"San Francisco\", 37.781334, -122.416728],\n",
    "        [\"NY\", \"New York\", 40.705649, -74.008344],\n",
    "        [\"FL\", \"Miami\", 25.791100, -80.320733],\n",
    "        [\"OH\", \"Cleveland\", 41.473508, -81.739791],\n",
    "        [\"UT\", \"Salt Lake City\", 40.755851, -111.896657]\n",
    "    ], columns=[\"state\", \"city\", \"lat\", \"lng\"])\n",
    "print(city_loc)\n",
    "print()\n",
    "\n",
    "print('DataFrame B')\n",
    "city_pop = pd.DataFrame(\n",
    "    [\n",
    "        [808976, \"San Francisco\", \"California\"],\n",
    "        [8363710, \"New York\", \"New-York\"],\n",
    "        [413201, \"Miami\", \"Florida\"],\n",
    "        [2242193, \"Houston\", \"Texas\"]\n",
    "    ], index=[3,4,5,6], columns=[\"population\", \"city\", \"state\"])\n",
    "print(city_pop)\n",
    "print()\n",
    "\n",
    "print('SQL Inner Join by using .merge()')\n",
    "print(pd.merge(left=city_loc, right=city_pop, on=\"city\"))\n",
    "print()\n",
    "\n",
    "print(\"SQL Outer Join by using .merge(how='outer')\")\n",
    "print(pd.merge(left=city_loc, right=city_pop, on=\"city\", how=\"outer\"))"
   ]
  },
  {
   "cell_type": "markdown",
   "metadata": {},
   "source": [
    "**Concatenation**  \n",
    "Numpy의 concatenate와 같이 <code>.concat</code>을 통하여 합칠 수 있다."
   ]
  },
  {
   "cell_type": "code",
   "execution_count": 56,
   "metadata": {},
   "outputs": [
    {
     "name": "stdout",
     "output_type": "stream",
     "text": [
      "             city        lat         lng  population       state\n",
      "0   San Francisco  37.781334 -122.416728         NaN          CA\n",
      "1        New York  40.705649  -74.008344         NaN          NY\n",
      "2           Miami  25.791100  -80.320733         NaN          FL\n",
      "3       Cleveland  41.473508  -81.739791         NaN          OH\n",
      "4  Salt Lake City  40.755851 -111.896657         NaN          UT\n",
      "3   San Francisco        NaN         NaN    808976.0  California\n",
      "4        New York        NaN         NaN   8363710.0    New-York\n",
      "5           Miami        NaN         NaN    413201.0     Florida\n",
      "6         Houston        NaN         NaN   2242193.0       Texas\n",
      "\n",
      "Using ignore_index=True\n",
      "             city        lat         lng  population       state\n",
      "0   San Francisco  37.781334 -122.416728         NaN          CA\n",
      "1        New York  40.705649  -74.008344         NaN          NY\n",
      "2           Miami  25.791100  -80.320733         NaN          FL\n",
      "3       Cleveland  41.473508  -81.739791         NaN          OH\n",
      "4  Salt Lake City  40.755851 -111.896657         NaN          UT\n",
      "5   San Francisco        NaN         NaN    808976.0  California\n",
      "6        New York        NaN         NaN   8363710.0    New-York\n",
      "7           Miami        NaN         NaN    413201.0     Florida\n",
      "8         Houston        NaN         NaN   2242193.0       Texas\n"
     ]
    },
    {
     "name": "stderr",
     "output_type": "stream",
     "text": [
      "c:\\users\\admin\\workspace\\pythonsetting\\handson\\lib\\site-packages\\ipykernel_launcher.py:1: FutureWarning: Sorting because non-concatenation axis is not aligned. A future version\n",
      "of pandas will change to not sort by default.\n",
      "\n",
      "To accept the future behavior, pass 'sort=False'.\n",
      "\n",
      "To retain the current behavior and silence the warning, pass 'sort=True'.\n",
      "\n",
      "  \"\"\"Entry point for launching an IPython kernel.\n",
      "c:\\users\\admin\\workspace\\pythonsetting\\handson\\lib\\site-packages\\ipykernel_launcher.py:5: FutureWarning: Sorting because non-concatenation axis is not aligned. A future version\n",
      "of pandas will change to not sort by default.\n",
      "\n",
      "To accept the future behavior, pass 'sort=False'.\n",
      "\n",
      "To retain the current behavior and silence the warning, pass 'sort=True'.\n",
      "\n",
      "  \"\"\"\n"
     ]
    }
   ],
   "source": [
    "print(pd.concat([city_loc, city_pop]))\n",
    "print()\n",
    "\n",
    "print('Using ignore_index=True')\n",
    "print(pd.concat([city_loc, city_pop], ignore_index=True))"
   ]
  },
  {
   "cell_type": "markdown",
   "metadata": {},
   "source": [
    "### Categories\n",
    "categories value를 다른 값으로 치환하는 것은 많이 사용된다.  \n",
    "즉, Model에 넣기 위하여 상수로 변환할 때 같은 Category끼리 같은 값을 가지게 하기 위해서 이다."
   ]
  },
  {
   "cell_type": "code",
   "execution_count": 57,
   "metadata": {},
   "outputs": [
    {
     "name": "stdout",
     "output_type": "stream",
     "text": [
      "   population           city       state  eco_code\n",
      "3      808976  San Francisco  California        17\n",
      "4     8363710       New York    New-York        17\n",
      "5      413201          Miami     Florida        34\n",
      "6     2242193        Houston       Texas        20\n",
      "\n",
      "eco_code category\n",
      "Int64Index([17, 20, 34], dtype='int64')\n",
      "\n",
      "Change the category\n",
      "   population           city       state  eco_code  economy\n",
      "3      808976  San Francisco  California        17  Finance\n",
      "4     8363710       New York    New-York        17  Finance\n",
      "5      413201          Miami     Florida        34  Tourism\n",
      "6     2242193        Houston       Texas        20   Energy\n"
     ]
    }
   ],
   "source": [
    "city_eco = city_pop.copy()\n",
    "city_eco[\"eco_code\"] = [17, 17, 34, 20]\n",
    "print(city_eco)\n",
    "print()\n",
    "\n",
    "print('eco_code category')\n",
    "# Change column to categorical column\n",
    "city_eco[\"economy\"] = city_eco[\"eco_code\"].astype('category')\n",
    "print(city_eco[\"economy\"].cat.categories)\n",
    "print()\n",
    "\n",
    "print('Change the category')\n",
    "city_eco[\"economy\"].cat.categories = [\"Finance\", \"Energy\", \"Tourism\"]\n",
    "print(city_eco)"
   ]
  }
 ],
 "metadata": {
  "kernelspec": {
   "display_name": "Python 3",
   "language": "python",
   "name": "python3"
  },
  "language_info": {
   "codemirror_mode": {
    "name": "ipython",
    "version": 3
   },
   "file_extension": ".py",
   "mimetype": "text/x-python",
   "name": "python",
   "nbconvert_exporter": "python",
   "pygments_lexer": "ipython3",
   "version": "3.7.3"
  }
 },
 "nbformat": 4,
 "nbformat_minor": 4
}
